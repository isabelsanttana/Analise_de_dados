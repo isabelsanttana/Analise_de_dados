{
  "nbformat": 4,
  "nbformat_minor": 0,
  "metadata": {
    "colab": {
      "name": "Trabalho - Correlacao_Regressao.ipynb",
      "provenance": [],
      "collapsed_sections": [
        "MAO1aY6GcajB",
        "8Rw70V6ojQKk",
        "2dchWo6L9EJU",
        "y0Lt1C-Ccaja",
        "c2OpdF85cajl",
        "cPOlHTg2cajo",
        "eP2wm9fBcaj2",
        "XH7mlisWySap",
        "CuuQWQOj2BZr",
        "3BXpr_mJY2qV"
      ],
      "include_colab_link": true
    },
    "kernelspec": {
      "display_name": "Python 3",
      "language": "python",
      "name": "python3"
    },
    "language_info": {
      "codemirror_mode": {
        "name": "ipython",
        "version": 3
      },
      "file_extension": ".py",
      "mimetype": "text/x-python",
      "name": "python",
      "nbconvert_exporter": "python",
      "pygments_lexer": "ipython3",
      "version": "3.6.5"
    }
  },
  "cells": [
    {
      "cell_type": "markdown",
      "metadata": {
        "id": "view-in-github",
        "colab_type": "text"
      },
      "source": [
        "<a href=\"https://colab.research.google.com/github/isabelsanttana/Analise_de_dados/blob/main/Trabalho_Correlacao_Regressao.ipynb\" target=\"_parent\"><img src=\"https://colab.research.google.com/assets/colab-badge.svg\" alt=\"Open In Colab\"/></a>"
      ]
    },
    {
      "cell_type": "markdown",
      "metadata": {
        "id": "G90zxY79qIXe"
      },
      "source": [
        "<?xml version=\"1.0\" encoding=\"UTF-8\"?>\n",
        "<html>\n",
        "  <body>\n",
        "    <header></header>\n",
        "        <CENTER>\n",
        "          <img src=\"https://www.uvv.br/wp-content/themes/uvvBr/templates/assets//img/logouvv.svg\" alt=\"UVV-LOGO\" style = width=\"100px\"; height=\"100px\">\n",
        "        </CENTER>    \n",
        "        <CENTER><b>Estatística para Ciência de Dados</b><br/>\n",
        "        <CENTER><b>Prof: Saulo Pereira Ribeiro</b>\n",
        "        <CENTER><b>Trabalho 2 - Correlação e Regressão Linear</b><br/></CENTER><br/>"
      ]
    },
    {
      "cell_type": "markdown",
      "metadata": {
        "id": "01QoVJ7-JsMY"
      },
      "source": [
        "***\n",
        "\n",
        "## Trabalho de Correlação e Regressão Linear\n",
        "\n"
      ]
    },
    {
      "cell_type": "markdown",
      "source": [
        "***\n",
        "##Integrantes\n",
        "* Guilherme Catrinque Drummond Fernandes\n",
        "* Maria Isabel Santana de Araujo\n",
        "* Rodrigo Pela Hernandes\n",
        "* Windsor Lóss Assis\n",
        "\n",
        "***"
      ],
      "metadata": {
        "id": "WI-qT2iPDaBJ"
      }
    },
    {
      "cell_type": "markdown",
      "metadata": {
        "id": "TDjqYYNojQKh"
      },
      "source": [
        "# Dataset do projeto\n",
        "***"
      ]
    },
    {
      "cell_type": "markdown",
      "source": [
        "<?xml version=\"1.0\" encoding=\"UTF-8\"?>\n",
        "<html>\n",
        "  <body>\n",
        "    <header></header>\n",
        "        <CENTER>\n",
        "          <img src=\"https://archive.ics.uci.edu/ml/assets/MLimages/Large186.jpg\" alt=\"vinho\" style = width=\"900px\"; height=\"200px\">\n",
        "        </CENTER>"
      ],
      "metadata": {
        "id": "pn7f65Ce4hHG"
      }
    },
    {
      "cell_type": "markdown",
      "metadata": {
        "id": "iN1gIbaKjQKh"
      },
      "source": [
        "### <b>Qualidade do vinho branco</b>\n",
        "\n",
        "Esse conjunto de dados datado de 2009 mostra variáveis de entrada físico-quimicas para produção de vinhos, assim como a nota de qualidade do respectivo vinho."
      ]
    },
    {
      "cell_type": "markdown",
      "metadata": {
        "id": "U6V7br1RjQKi"
      },
      "source": [
        "### Fonte dos Dados\n",
        "\n",
        "https://archive.ics.uci.edu/ml/datasets/Wine+Quality"
      ]
    },
    {
      "cell_type": "markdown",
      "metadata": {
        "id": "r0Fe_qnzjQKj"
      },
      "source": [
        "### Variáveis utilizadas\n",
        "\n",
        "|Coluna|Tradução|Tipo de Variavel|Obs|\n",
        "|---|---|---|---|\n",
        "|fixed acidity|acidez fixa|Entrada||\n",
        "|volatile acidity|acidez volátil|Entrada||\n",
        "|citric acid|ácido cítrico|Entrada||\n",
        "|residual sugar|açúcar residual|Entrada||\n",
        "|chlorides|cloretos|Entrada||\n",
        "| free sulfur dioxide|dióxido de enxofre livre|Entrada||\n",
        "|total sulfur dioxide|dióxido de enxofre total|Entrada||\n",
        "|density|densidade|Entrada||\n",
        "|pH|pH|Entrada||\n",
        "|sulphates|sulfatos|Entrada||\n",
        "|alcohol|álcool|Entrada||\n",
        "|quality |qualidade |Saída|pontuação entre 0 e 10|\n"
      ]
    },
    {
      "cell_type": "markdown",
      "metadata": {
        "id": "OK1IQH5cX7Gb"
      },
      "source": [
        "### <font color='blue'>Observação</font>\n",
        "***\n",
        "> Os seguintes tratamentos foram realizados nos dados originais:\n",
        "> 1. Foram eliminados os registros duplicados;\n",
        "> 2. Foram eliminados os registros nulos;\n"
      ]
    },
    {
      "cell_type": "markdown",
      "metadata": {
        "id": "MAO1aY6GcajB"
      },
      "source": [
        "### Importando bibliotecas\n",
        "\n"
      ]
    },
    {
      "cell_type": "code",
      "metadata": {
        "id": "m5QYUoH4cnp1",
        "colab": {
          "base_uri": "https://localhost:8080/"
        },
        "outputId": "b96b8922-03be-4fac-da7a-0b7e94369e72"
      },
      "source": [
        "# down grade da versão do scipy\n",
        "!pip install scipy==1.2 --upgrade"
      ],
      "execution_count": 223,
      "outputs": [
        {
          "output_type": "stream",
          "name": "stdout",
          "text": [
            "Looking in indexes: https://pypi.org/simple, https://us-python.pkg.dev/colab-wheels/public/simple/\n",
            "Requirement already satisfied: scipy==1.2 in /usr/local/lib/python3.7/dist-packages (1.2.0)\n",
            "Requirement already satisfied: numpy>=1.8.2 in /usr/local/lib/python3.7/dist-packages (from scipy==1.2) (1.21.6)\n"
          ]
        }
      ]
    },
    {
      "cell_type": "code",
      "source": [
        "import pandas as pd\n",
        "import numpy as np\n",
        "import seaborn as sns\n",
        "import scipy as sp\n",
        "import statsmodels.api as sm\n",
        "import matplotlib.pyplot as plt"
      ],
      "metadata": {
        "id": "i0ymK1p0jCye"
      },
      "execution_count": 225,
      "outputs": []
    },
    {
      "cell_type": "markdown",
      "metadata": {
        "id": "8Rw70V6ojQKk"
      },
      "source": [
        "### Lendo o dataset do projeto"
      ]
    },
    {
      "cell_type": "code",
      "source": [
        "from google.colab import drive\n",
        "drive.mount('/content/drive')"
      ],
      "metadata": {
        "id": "OUClkUHo1NSF",
        "colab": {
          "base_uri": "https://localhost:8080/"
        },
        "outputId": "01fad5bd-4e92-43a3-ed10-8ccdd96478e7"
      },
      "execution_count": 226,
      "outputs": [
        {
          "output_type": "stream",
          "name": "stdout",
          "text": [
            "Drive already mounted at /content/drive; to attempt to forcibly remount, call drive.mount(\"/content/drive\", force_remount=True).\n"
          ]
        }
      ]
    },
    {
      "cell_type": "code",
      "metadata": {
        "id": "ufRZ7TLwjQKo"
      },
      "source": [
        "dados = pd.read_csv('/content/drive/MyDrive/UVV/Trabalhos/Estatistica/trab_2/winequality-white.csv', sep=\";\")"
      ],
      "execution_count": 227,
      "outputs": []
    },
    {
      "cell_type": "code",
      "metadata": {
        "id": "GsC_WhLFjQKq",
        "scrolled": true,
        "outputId": "7c878678-bb2e-42e1-98a4-456af062d11d",
        "colab": {
          "base_uri": "https://localhost:8080/",
          "height": 1000
        }
      },
      "source": [
        "dados.head(30)"
      ],
      "execution_count": 228,
      "outputs": [
        {
          "output_type": "execute_result",
          "data": {
            "text/plain": [
              "    fixed acidity  volatile acidity  citric acid  residual sugar  chlorides  \\\n",
              "0             7.0              0.27         0.36           20.70      0.045   \n",
              "1             6.3              0.30         0.34            1.60      0.049   \n",
              "2             8.1              0.28         0.40            6.90      0.050   \n",
              "3             7.2              0.23         0.32            8.50      0.058   \n",
              "4             7.2              0.23         0.32            8.50      0.058   \n",
              "5             8.1              0.28         0.40            6.90      0.050   \n",
              "6             6.2              0.32         0.16            7.00      0.045   \n",
              "7             7.0              0.27         0.36           20.70      0.045   \n",
              "8             6.3              0.30         0.34            1.60      0.049   \n",
              "9             8.1              0.22         0.43            1.50      0.044   \n",
              "10            8.1              0.27         0.41            1.45      0.033   \n",
              "11            8.6              0.23         0.40            4.20      0.035   \n",
              "12            7.9              0.18         0.37            1.20      0.040   \n",
              "13            6.6              0.16         0.40            1.50      0.044   \n",
              "14            8.3              0.42         0.62           19.25      0.040   \n",
              "15            6.6              0.17         0.38            1.50      0.032   \n",
              "16            6.3              0.48         0.04            1.10      0.046   \n",
              "17            6.2              0.66         0.48            1.20      0.029   \n",
              "18            7.4              0.34         0.42            1.10      0.033   \n",
              "19            6.5              0.31         0.14            7.50      0.044   \n",
              "20            6.2              0.66         0.48            1.20      0.029   \n",
              "21            6.4              0.31         0.38            2.90      0.038   \n",
              "22            6.8              0.26         0.42            1.70      0.049   \n",
              "23            7.6              0.67         0.14            1.50      0.074   \n",
              "24            6.6              0.27         0.41            1.30      0.052   \n",
              "25            7.0              0.25         0.32            9.00      0.046   \n",
              "26            6.9              0.24         0.35            1.00      0.052   \n",
              "27            7.0              0.28         0.39            8.70      0.051   \n",
              "28            7.4              0.27         0.48            1.10      0.047   \n",
              "29            7.2              0.32         0.36            2.00      0.033   \n",
              "\n",
              "    free sulfur dioxide  total sulfur dioxide  density    pH  sulphates  \\\n",
              "0                  45.0                 170.0   1.0010  3.00       0.45   \n",
              "1                  14.0                 132.0   0.9940  3.30       0.49   \n",
              "2                  30.0                  97.0   0.9951  3.26       0.44   \n",
              "3                  47.0                 186.0   0.9956  3.19       0.40   \n",
              "4                  47.0                 186.0   0.9956  3.19       0.40   \n",
              "5                  30.0                  97.0   0.9951  3.26       0.44   \n",
              "6                  30.0                 136.0   0.9949  3.18       0.47   \n",
              "7                  45.0                 170.0   1.0010  3.00       0.45   \n",
              "8                  14.0                 132.0   0.9940  3.30       0.49   \n",
              "9                  28.0                 129.0   0.9938  3.22       0.45   \n",
              "10                 11.0                  63.0   0.9908  2.99       0.56   \n",
              "11                 17.0                 109.0   0.9947  3.14       0.53   \n",
              "12                 16.0                  75.0   0.9920  3.18       0.63   \n",
              "13                 48.0                 143.0   0.9912  3.54       0.52   \n",
              "14                 41.0                 172.0   1.0002  2.98       0.67   \n",
              "15                 28.0                 112.0   0.9914  3.25       0.55   \n",
              "16                 30.0                  99.0   0.9928  3.24       0.36   \n",
              "17                 29.0                  75.0   0.9892  3.33       0.39   \n",
              "18                 17.0                 171.0   0.9917  3.12       0.53   \n",
              "19                 34.0                 133.0   0.9955  3.22       0.50   \n",
              "20                 29.0                  75.0   0.9892  3.33       0.39   \n",
              "21                 19.0                 102.0   0.9912  3.17       0.35   \n",
              "22                 41.0                 122.0   0.9930  3.47       0.48   \n",
              "23                 25.0                 168.0   0.9937  3.05       0.51   \n",
              "24                 16.0                 142.0   0.9951  3.42       0.47   \n",
              "25                 56.0                 245.0   0.9955  3.25       0.50   \n",
              "26                 35.0                 146.0   0.9930  3.45       0.44   \n",
              "27                 32.0                 141.0   0.9961  3.38       0.53   \n",
              "28                 17.0                 132.0   0.9914  3.19       0.49   \n",
              "29                 37.0                 114.0   0.9906  3.10       0.71   \n",
              "\n",
              "    alcohol  quality  \n",
              "0       8.8        6  \n",
              "1       9.5        6  \n",
              "2      10.1        6  \n",
              "3       9.9        6  \n",
              "4       9.9        6  \n",
              "5      10.1        6  \n",
              "6       9.6        6  \n",
              "7       8.8        6  \n",
              "8       9.5        6  \n",
              "9      11.0        6  \n",
              "10     12.0        5  \n",
              "11      9.7        5  \n",
              "12     10.8        5  \n",
              "13     12.4        7  \n",
              "14      9.7        5  \n",
              "15     11.4        7  \n",
              "16      9.6        6  \n",
              "17     12.8        8  \n",
              "18     11.3        6  \n",
              "19      9.5        5  \n",
              "20     12.8        8  \n",
              "21     11.0        7  \n",
              "22     10.5        8  \n",
              "23      9.3        5  \n",
              "24     10.0        6  \n",
              "25     10.4        6  \n",
              "26     10.0        6  \n",
              "27     10.5        6  \n",
              "28     11.6        6  \n",
              "29     12.3        7  "
            ],
            "text/html": [
              "\n",
              "  <div id=\"df-41bb0686-27c9-47bf-8300-5c86d8de1d57\">\n",
              "    <div class=\"colab-df-container\">\n",
              "      <div>\n",
              "<style scoped>\n",
              "    .dataframe tbody tr th:only-of-type {\n",
              "        vertical-align: middle;\n",
              "    }\n",
              "\n",
              "    .dataframe tbody tr th {\n",
              "        vertical-align: top;\n",
              "    }\n",
              "\n",
              "    .dataframe thead th {\n",
              "        text-align: right;\n",
              "    }\n",
              "</style>\n",
              "<table border=\"1\" class=\"dataframe\">\n",
              "  <thead>\n",
              "    <tr style=\"text-align: right;\">\n",
              "      <th></th>\n",
              "      <th>fixed acidity</th>\n",
              "      <th>volatile acidity</th>\n",
              "      <th>citric acid</th>\n",
              "      <th>residual sugar</th>\n",
              "      <th>chlorides</th>\n",
              "      <th>free sulfur dioxide</th>\n",
              "      <th>total sulfur dioxide</th>\n",
              "      <th>density</th>\n",
              "      <th>pH</th>\n",
              "      <th>sulphates</th>\n",
              "      <th>alcohol</th>\n",
              "      <th>quality</th>\n",
              "    </tr>\n",
              "  </thead>\n",
              "  <tbody>\n",
              "    <tr>\n",
              "      <th>0</th>\n",
              "      <td>7.0</td>\n",
              "      <td>0.27</td>\n",
              "      <td>0.36</td>\n",
              "      <td>20.70</td>\n",
              "      <td>0.045</td>\n",
              "      <td>45.0</td>\n",
              "      <td>170.0</td>\n",
              "      <td>1.0010</td>\n",
              "      <td>3.00</td>\n",
              "      <td>0.45</td>\n",
              "      <td>8.8</td>\n",
              "      <td>6</td>\n",
              "    </tr>\n",
              "    <tr>\n",
              "      <th>1</th>\n",
              "      <td>6.3</td>\n",
              "      <td>0.30</td>\n",
              "      <td>0.34</td>\n",
              "      <td>1.60</td>\n",
              "      <td>0.049</td>\n",
              "      <td>14.0</td>\n",
              "      <td>132.0</td>\n",
              "      <td>0.9940</td>\n",
              "      <td>3.30</td>\n",
              "      <td>0.49</td>\n",
              "      <td>9.5</td>\n",
              "      <td>6</td>\n",
              "    </tr>\n",
              "    <tr>\n",
              "      <th>2</th>\n",
              "      <td>8.1</td>\n",
              "      <td>0.28</td>\n",
              "      <td>0.40</td>\n",
              "      <td>6.90</td>\n",
              "      <td>0.050</td>\n",
              "      <td>30.0</td>\n",
              "      <td>97.0</td>\n",
              "      <td>0.9951</td>\n",
              "      <td>3.26</td>\n",
              "      <td>0.44</td>\n",
              "      <td>10.1</td>\n",
              "      <td>6</td>\n",
              "    </tr>\n",
              "    <tr>\n",
              "      <th>3</th>\n",
              "      <td>7.2</td>\n",
              "      <td>0.23</td>\n",
              "      <td>0.32</td>\n",
              "      <td>8.50</td>\n",
              "      <td>0.058</td>\n",
              "      <td>47.0</td>\n",
              "      <td>186.0</td>\n",
              "      <td>0.9956</td>\n",
              "      <td>3.19</td>\n",
              "      <td>0.40</td>\n",
              "      <td>9.9</td>\n",
              "      <td>6</td>\n",
              "    </tr>\n",
              "    <tr>\n",
              "      <th>4</th>\n",
              "      <td>7.2</td>\n",
              "      <td>0.23</td>\n",
              "      <td>0.32</td>\n",
              "      <td>8.50</td>\n",
              "      <td>0.058</td>\n",
              "      <td>47.0</td>\n",
              "      <td>186.0</td>\n",
              "      <td>0.9956</td>\n",
              "      <td>3.19</td>\n",
              "      <td>0.40</td>\n",
              "      <td>9.9</td>\n",
              "      <td>6</td>\n",
              "    </tr>\n",
              "    <tr>\n",
              "      <th>5</th>\n",
              "      <td>8.1</td>\n",
              "      <td>0.28</td>\n",
              "      <td>0.40</td>\n",
              "      <td>6.90</td>\n",
              "      <td>0.050</td>\n",
              "      <td>30.0</td>\n",
              "      <td>97.0</td>\n",
              "      <td>0.9951</td>\n",
              "      <td>3.26</td>\n",
              "      <td>0.44</td>\n",
              "      <td>10.1</td>\n",
              "      <td>6</td>\n",
              "    </tr>\n",
              "    <tr>\n",
              "      <th>6</th>\n",
              "      <td>6.2</td>\n",
              "      <td>0.32</td>\n",
              "      <td>0.16</td>\n",
              "      <td>7.00</td>\n",
              "      <td>0.045</td>\n",
              "      <td>30.0</td>\n",
              "      <td>136.0</td>\n",
              "      <td>0.9949</td>\n",
              "      <td>3.18</td>\n",
              "      <td>0.47</td>\n",
              "      <td>9.6</td>\n",
              "      <td>6</td>\n",
              "    </tr>\n",
              "    <tr>\n",
              "      <th>7</th>\n",
              "      <td>7.0</td>\n",
              "      <td>0.27</td>\n",
              "      <td>0.36</td>\n",
              "      <td>20.70</td>\n",
              "      <td>0.045</td>\n",
              "      <td>45.0</td>\n",
              "      <td>170.0</td>\n",
              "      <td>1.0010</td>\n",
              "      <td>3.00</td>\n",
              "      <td>0.45</td>\n",
              "      <td>8.8</td>\n",
              "      <td>6</td>\n",
              "    </tr>\n",
              "    <tr>\n",
              "      <th>8</th>\n",
              "      <td>6.3</td>\n",
              "      <td>0.30</td>\n",
              "      <td>0.34</td>\n",
              "      <td>1.60</td>\n",
              "      <td>0.049</td>\n",
              "      <td>14.0</td>\n",
              "      <td>132.0</td>\n",
              "      <td>0.9940</td>\n",
              "      <td>3.30</td>\n",
              "      <td>0.49</td>\n",
              "      <td>9.5</td>\n",
              "      <td>6</td>\n",
              "    </tr>\n",
              "    <tr>\n",
              "      <th>9</th>\n",
              "      <td>8.1</td>\n",
              "      <td>0.22</td>\n",
              "      <td>0.43</td>\n",
              "      <td>1.50</td>\n",
              "      <td>0.044</td>\n",
              "      <td>28.0</td>\n",
              "      <td>129.0</td>\n",
              "      <td>0.9938</td>\n",
              "      <td>3.22</td>\n",
              "      <td>0.45</td>\n",
              "      <td>11.0</td>\n",
              "      <td>6</td>\n",
              "    </tr>\n",
              "    <tr>\n",
              "      <th>10</th>\n",
              "      <td>8.1</td>\n",
              "      <td>0.27</td>\n",
              "      <td>0.41</td>\n",
              "      <td>1.45</td>\n",
              "      <td>0.033</td>\n",
              "      <td>11.0</td>\n",
              "      <td>63.0</td>\n",
              "      <td>0.9908</td>\n",
              "      <td>2.99</td>\n",
              "      <td>0.56</td>\n",
              "      <td>12.0</td>\n",
              "      <td>5</td>\n",
              "    </tr>\n",
              "    <tr>\n",
              "      <th>11</th>\n",
              "      <td>8.6</td>\n",
              "      <td>0.23</td>\n",
              "      <td>0.40</td>\n",
              "      <td>4.20</td>\n",
              "      <td>0.035</td>\n",
              "      <td>17.0</td>\n",
              "      <td>109.0</td>\n",
              "      <td>0.9947</td>\n",
              "      <td>3.14</td>\n",
              "      <td>0.53</td>\n",
              "      <td>9.7</td>\n",
              "      <td>5</td>\n",
              "    </tr>\n",
              "    <tr>\n",
              "      <th>12</th>\n",
              "      <td>7.9</td>\n",
              "      <td>0.18</td>\n",
              "      <td>0.37</td>\n",
              "      <td>1.20</td>\n",
              "      <td>0.040</td>\n",
              "      <td>16.0</td>\n",
              "      <td>75.0</td>\n",
              "      <td>0.9920</td>\n",
              "      <td>3.18</td>\n",
              "      <td>0.63</td>\n",
              "      <td>10.8</td>\n",
              "      <td>5</td>\n",
              "    </tr>\n",
              "    <tr>\n",
              "      <th>13</th>\n",
              "      <td>6.6</td>\n",
              "      <td>0.16</td>\n",
              "      <td>0.40</td>\n",
              "      <td>1.50</td>\n",
              "      <td>0.044</td>\n",
              "      <td>48.0</td>\n",
              "      <td>143.0</td>\n",
              "      <td>0.9912</td>\n",
              "      <td>3.54</td>\n",
              "      <td>0.52</td>\n",
              "      <td>12.4</td>\n",
              "      <td>7</td>\n",
              "    </tr>\n",
              "    <tr>\n",
              "      <th>14</th>\n",
              "      <td>8.3</td>\n",
              "      <td>0.42</td>\n",
              "      <td>0.62</td>\n",
              "      <td>19.25</td>\n",
              "      <td>0.040</td>\n",
              "      <td>41.0</td>\n",
              "      <td>172.0</td>\n",
              "      <td>1.0002</td>\n",
              "      <td>2.98</td>\n",
              "      <td>0.67</td>\n",
              "      <td>9.7</td>\n",
              "      <td>5</td>\n",
              "    </tr>\n",
              "    <tr>\n",
              "      <th>15</th>\n",
              "      <td>6.6</td>\n",
              "      <td>0.17</td>\n",
              "      <td>0.38</td>\n",
              "      <td>1.50</td>\n",
              "      <td>0.032</td>\n",
              "      <td>28.0</td>\n",
              "      <td>112.0</td>\n",
              "      <td>0.9914</td>\n",
              "      <td>3.25</td>\n",
              "      <td>0.55</td>\n",
              "      <td>11.4</td>\n",
              "      <td>7</td>\n",
              "    </tr>\n",
              "    <tr>\n",
              "      <th>16</th>\n",
              "      <td>6.3</td>\n",
              "      <td>0.48</td>\n",
              "      <td>0.04</td>\n",
              "      <td>1.10</td>\n",
              "      <td>0.046</td>\n",
              "      <td>30.0</td>\n",
              "      <td>99.0</td>\n",
              "      <td>0.9928</td>\n",
              "      <td>3.24</td>\n",
              "      <td>0.36</td>\n",
              "      <td>9.6</td>\n",
              "      <td>6</td>\n",
              "    </tr>\n",
              "    <tr>\n",
              "      <th>17</th>\n",
              "      <td>6.2</td>\n",
              "      <td>0.66</td>\n",
              "      <td>0.48</td>\n",
              "      <td>1.20</td>\n",
              "      <td>0.029</td>\n",
              "      <td>29.0</td>\n",
              "      <td>75.0</td>\n",
              "      <td>0.9892</td>\n",
              "      <td>3.33</td>\n",
              "      <td>0.39</td>\n",
              "      <td>12.8</td>\n",
              "      <td>8</td>\n",
              "    </tr>\n",
              "    <tr>\n",
              "      <th>18</th>\n",
              "      <td>7.4</td>\n",
              "      <td>0.34</td>\n",
              "      <td>0.42</td>\n",
              "      <td>1.10</td>\n",
              "      <td>0.033</td>\n",
              "      <td>17.0</td>\n",
              "      <td>171.0</td>\n",
              "      <td>0.9917</td>\n",
              "      <td>3.12</td>\n",
              "      <td>0.53</td>\n",
              "      <td>11.3</td>\n",
              "      <td>6</td>\n",
              "    </tr>\n",
              "    <tr>\n",
              "      <th>19</th>\n",
              "      <td>6.5</td>\n",
              "      <td>0.31</td>\n",
              "      <td>0.14</td>\n",
              "      <td>7.50</td>\n",
              "      <td>0.044</td>\n",
              "      <td>34.0</td>\n",
              "      <td>133.0</td>\n",
              "      <td>0.9955</td>\n",
              "      <td>3.22</td>\n",
              "      <td>0.50</td>\n",
              "      <td>9.5</td>\n",
              "      <td>5</td>\n",
              "    </tr>\n",
              "    <tr>\n",
              "      <th>20</th>\n",
              "      <td>6.2</td>\n",
              "      <td>0.66</td>\n",
              "      <td>0.48</td>\n",
              "      <td>1.20</td>\n",
              "      <td>0.029</td>\n",
              "      <td>29.0</td>\n",
              "      <td>75.0</td>\n",
              "      <td>0.9892</td>\n",
              "      <td>3.33</td>\n",
              "      <td>0.39</td>\n",
              "      <td>12.8</td>\n",
              "      <td>8</td>\n",
              "    </tr>\n",
              "    <tr>\n",
              "      <th>21</th>\n",
              "      <td>6.4</td>\n",
              "      <td>0.31</td>\n",
              "      <td>0.38</td>\n",
              "      <td>2.90</td>\n",
              "      <td>0.038</td>\n",
              "      <td>19.0</td>\n",
              "      <td>102.0</td>\n",
              "      <td>0.9912</td>\n",
              "      <td>3.17</td>\n",
              "      <td>0.35</td>\n",
              "      <td>11.0</td>\n",
              "      <td>7</td>\n",
              "    </tr>\n",
              "    <tr>\n",
              "      <th>22</th>\n",
              "      <td>6.8</td>\n",
              "      <td>0.26</td>\n",
              "      <td>0.42</td>\n",
              "      <td>1.70</td>\n",
              "      <td>0.049</td>\n",
              "      <td>41.0</td>\n",
              "      <td>122.0</td>\n",
              "      <td>0.9930</td>\n",
              "      <td>3.47</td>\n",
              "      <td>0.48</td>\n",
              "      <td>10.5</td>\n",
              "      <td>8</td>\n",
              "    </tr>\n",
              "    <tr>\n",
              "      <th>23</th>\n",
              "      <td>7.6</td>\n",
              "      <td>0.67</td>\n",
              "      <td>0.14</td>\n",
              "      <td>1.50</td>\n",
              "      <td>0.074</td>\n",
              "      <td>25.0</td>\n",
              "      <td>168.0</td>\n",
              "      <td>0.9937</td>\n",
              "      <td>3.05</td>\n",
              "      <td>0.51</td>\n",
              "      <td>9.3</td>\n",
              "      <td>5</td>\n",
              "    </tr>\n",
              "    <tr>\n",
              "      <th>24</th>\n",
              "      <td>6.6</td>\n",
              "      <td>0.27</td>\n",
              "      <td>0.41</td>\n",
              "      <td>1.30</td>\n",
              "      <td>0.052</td>\n",
              "      <td>16.0</td>\n",
              "      <td>142.0</td>\n",
              "      <td>0.9951</td>\n",
              "      <td>3.42</td>\n",
              "      <td>0.47</td>\n",
              "      <td>10.0</td>\n",
              "      <td>6</td>\n",
              "    </tr>\n",
              "    <tr>\n",
              "      <th>25</th>\n",
              "      <td>7.0</td>\n",
              "      <td>0.25</td>\n",
              "      <td>0.32</td>\n",
              "      <td>9.00</td>\n",
              "      <td>0.046</td>\n",
              "      <td>56.0</td>\n",
              "      <td>245.0</td>\n",
              "      <td>0.9955</td>\n",
              "      <td>3.25</td>\n",
              "      <td>0.50</td>\n",
              "      <td>10.4</td>\n",
              "      <td>6</td>\n",
              "    </tr>\n",
              "    <tr>\n",
              "      <th>26</th>\n",
              "      <td>6.9</td>\n",
              "      <td>0.24</td>\n",
              "      <td>0.35</td>\n",
              "      <td>1.00</td>\n",
              "      <td>0.052</td>\n",
              "      <td>35.0</td>\n",
              "      <td>146.0</td>\n",
              "      <td>0.9930</td>\n",
              "      <td>3.45</td>\n",
              "      <td>0.44</td>\n",
              "      <td>10.0</td>\n",
              "      <td>6</td>\n",
              "    </tr>\n",
              "    <tr>\n",
              "      <th>27</th>\n",
              "      <td>7.0</td>\n",
              "      <td>0.28</td>\n",
              "      <td>0.39</td>\n",
              "      <td>8.70</td>\n",
              "      <td>0.051</td>\n",
              "      <td>32.0</td>\n",
              "      <td>141.0</td>\n",
              "      <td>0.9961</td>\n",
              "      <td>3.38</td>\n",
              "      <td>0.53</td>\n",
              "      <td>10.5</td>\n",
              "      <td>6</td>\n",
              "    </tr>\n",
              "    <tr>\n",
              "      <th>28</th>\n",
              "      <td>7.4</td>\n",
              "      <td>0.27</td>\n",
              "      <td>0.48</td>\n",
              "      <td>1.10</td>\n",
              "      <td>0.047</td>\n",
              "      <td>17.0</td>\n",
              "      <td>132.0</td>\n",
              "      <td>0.9914</td>\n",
              "      <td>3.19</td>\n",
              "      <td>0.49</td>\n",
              "      <td>11.6</td>\n",
              "      <td>6</td>\n",
              "    </tr>\n",
              "    <tr>\n",
              "      <th>29</th>\n",
              "      <td>7.2</td>\n",
              "      <td>0.32</td>\n",
              "      <td>0.36</td>\n",
              "      <td>2.00</td>\n",
              "      <td>0.033</td>\n",
              "      <td>37.0</td>\n",
              "      <td>114.0</td>\n",
              "      <td>0.9906</td>\n",
              "      <td>3.10</td>\n",
              "      <td>0.71</td>\n",
              "      <td>12.3</td>\n",
              "      <td>7</td>\n",
              "    </tr>\n",
              "  </tbody>\n",
              "</table>\n",
              "</div>\n",
              "      <button class=\"colab-df-convert\" onclick=\"convertToInteractive('df-41bb0686-27c9-47bf-8300-5c86d8de1d57')\"\n",
              "              title=\"Convert this dataframe to an interactive table.\"\n",
              "              style=\"display:none;\">\n",
              "        \n",
              "  <svg xmlns=\"http://www.w3.org/2000/svg\" height=\"24px\"viewBox=\"0 0 24 24\"\n",
              "       width=\"24px\">\n",
              "    <path d=\"M0 0h24v24H0V0z\" fill=\"none\"/>\n",
              "    <path d=\"M18.56 5.44l.94 2.06.94-2.06 2.06-.94-2.06-.94-.94-2.06-.94 2.06-2.06.94zm-11 1L8.5 8.5l.94-2.06 2.06-.94-2.06-.94L8.5 2.5l-.94 2.06-2.06.94zm10 10l.94 2.06.94-2.06 2.06-.94-2.06-.94-.94-2.06-.94 2.06-2.06.94z\"/><path d=\"M17.41 7.96l-1.37-1.37c-.4-.4-.92-.59-1.43-.59-.52 0-1.04.2-1.43.59L10.3 9.45l-7.72 7.72c-.78.78-.78 2.05 0 2.83L4 21.41c.39.39.9.59 1.41.59.51 0 1.02-.2 1.41-.59l7.78-7.78 2.81-2.81c.8-.78.8-2.07 0-2.86zM5.41 20L4 18.59l7.72-7.72 1.47 1.35L5.41 20z\"/>\n",
              "  </svg>\n",
              "      </button>\n",
              "      \n",
              "  <style>\n",
              "    .colab-df-container {\n",
              "      display:flex;\n",
              "      flex-wrap:wrap;\n",
              "      gap: 12px;\n",
              "    }\n",
              "\n",
              "    .colab-df-convert {\n",
              "      background-color: #E8F0FE;\n",
              "      border: none;\n",
              "      border-radius: 50%;\n",
              "      cursor: pointer;\n",
              "      display: none;\n",
              "      fill: #1967D2;\n",
              "      height: 32px;\n",
              "      padding: 0 0 0 0;\n",
              "      width: 32px;\n",
              "    }\n",
              "\n",
              "    .colab-df-convert:hover {\n",
              "      background-color: #E2EBFA;\n",
              "      box-shadow: 0px 1px 2px rgba(60, 64, 67, 0.3), 0px 1px 3px 1px rgba(60, 64, 67, 0.15);\n",
              "      fill: #174EA6;\n",
              "    }\n",
              "\n",
              "    [theme=dark] .colab-df-convert {\n",
              "      background-color: #3B4455;\n",
              "      fill: #D2E3FC;\n",
              "    }\n",
              "\n",
              "    [theme=dark] .colab-df-convert:hover {\n",
              "      background-color: #434B5C;\n",
              "      box-shadow: 0px 1px 3px 1px rgba(0, 0, 0, 0.15);\n",
              "      filter: drop-shadow(0px 1px 2px rgba(0, 0, 0, 0.3));\n",
              "      fill: #FFFFFF;\n",
              "    }\n",
              "  </style>\n",
              "\n",
              "      <script>\n",
              "        const buttonEl =\n",
              "          document.querySelector('#df-41bb0686-27c9-47bf-8300-5c86d8de1d57 button.colab-df-convert');\n",
              "        buttonEl.style.display =\n",
              "          google.colab.kernel.accessAllowed ? 'block' : 'none';\n",
              "\n",
              "        async function convertToInteractive(key) {\n",
              "          const element = document.querySelector('#df-41bb0686-27c9-47bf-8300-5c86d8de1d57');\n",
              "          const dataTable =\n",
              "            await google.colab.kernel.invokeFunction('convertToInteractive',\n",
              "                                                     [key], {});\n",
              "          if (!dataTable) return;\n",
              "\n",
              "          const docLinkHtml = 'Like what you see? Visit the ' +\n",
              "            '<a target=\"_blank\" href=https://colab.research.google.com/notebooks/data_table.ipynb>data table notebook</a>'\n",
              "            + ' to learn more about interactive tables.';\n",
              "          element.innerHTML = '';\n",
              "          dataTable['output_type'] = 'display_data';\n",
              "          await google.colab.output.renderOutput(dataTable, element);\n",
              "          const docLink = document.createElement('div');\n",
              "          docLink.innerHTML = docLinkHtml;\n",
              "          element.appendChild(docLink);\n",
              "        }\n",
              "      </script>\n",
              "    </div>\n",
              "  </div>\n",
              "  "
            ]
          },
          "metadata": {},
          "execution_count": 228
        }
      ]
    },
    {
      "cell_type": "markdown",
      "source": [
        "### Sobre os dados"
      ],
      "metadata": {
        "id": "S4fjv2I789Gh"
      }
    },
    {
      "cell_type": "code",
      "source": [
        "dados.info()"
      ],
      "metadata": {
        "id": "ca4d46qj3vSU",
        "colab": {
          "base_uri": "https://localhost:8080/"
        },
        "outputId": "303987c6-bf85-4574-a4f7-36bae547f469"
      },
      "execution_count": 229,
      "outputs": [
        {
          "output_type": "stream",
          "name": "stdout",
          "text": [
            "<class 'pandas.core.frame.DataFrame'>\n",
            "RangeIndex: 4898 entries, 0 to 4897\n",
            "Data columns (total 12 columns):\n",
            " #   Column                Non-Null Count  Dtype  \n",
            "---  ------                --------------  -----  \n",
            " 0   fixed acidity         4898 non-null   float64\n",
            " 1   volatile acidity      4898 non-null   float64\n",
            " 2   citric acid           4898 non-null   float64\n",
            " 3   residual sugar        4898 non-null   float64\n",
            " 4   chlorides             4898 non-null   float64\n",
            " 5   free sulfur dioxide   4898 non-null   float64\n",
            " 6   total sulfur dioxide  4898 non-null   float64\n",
            " 7   density               4898 non-null   float64\n",
            " 8   pH                    4898 non-null   float64\n",
            " 9   sulphates             4898 non-null   float64\n",
            " 10  alcohol               4898 non-null   float64\n",
            " 11  quality               4898 non-null   int64  \n",
            "dtypes: float64(11), int64(1)\n",
            "memory usage: 459.3 KB\n"
          ]
        }
      ]
    },
    {
      "cell_type": "code",
      "source": [
        "# Qnt de linhas e colunas\n",
        "dados.shape "
      ],
      "metadata": {
        "id": "6rMiTWJ93Nqq",
        "colab": {
          "base_uri": "https://localhost:8080/"
        },
        "outputId": "975ee3a7-5774-440b-c591-a13d2e6c3a16"
      },
      "execution_count": 230,
      "outputs": [
        {
          "output_type": "execute_result",
          "data": {
            "text/plain": [
              "(4898, 12)"
            ]
          },
          "metadata": {},
          "execution_count": 230
        }
      ]
    },
    {
      "cell_type": "code",
      "source": [
        "dados.isnull().sum()"
      ],
      "metadata": {
        "id": "j9mjx_Ard60R",
        "colab": {
          "base_uri": "https://localhost:8080/"
        },
        "outputId": "1c73cf88-84b6-4659-fb4a-cf9cad665623"
      },
      "execution_count": 231,
      "outputs": [
        {
          "output_type": "execute_result",
          "data": {
            "text/plain": [
              "fixed acidity           0\n",
              "volatile acidity        0\n",
              "citric acid             0\n",
              "residual sugar          0\n",
              "chlorides               0\n",
              "free sulfur dioxide     0\n",
              "total sulfur dioxide    0\n",
              "density                 0\n",
              "pH                      0\n",
              "sulphates               0\n",
              "alcohol                 0\n",
              "quality                 0\n",
              "dtype: int64"
            ]
          },
          "metadata": {},
          "execution_count": 231
        }
      ]
    },
    {
      "cell_type": "code",
      "source": [
        "# colunas do dataset\n",
        "dados.columns.to_list()"
      ],
      "metadata": {
        "id": "xhTPQCvl9Bif",
        "colab": {
          "base_uri": "https://localhost:8080/"
        },
        "outputId": "7700d32a-17f0-4d9a-b154-ea5cad4a725e"
      },
      "execution_count": 232,
      "outputs": [
        {
          "output_type": "execute_result",
          "data": {
            "text/plain": [
              "['fixed acidity',\n",
              " 'volatile acidity',\n",
              " 'citric acid',\n",
              " 'residual sugar',\n",
              " 'chlorides',\n",
              " 'free sulfur dioxide',\n",
              " 'total sulfur dioxide',\n",
              " 'density',\n",
              " 'pH',\n",
              " 'sulphates',\n",
              " 'alcohol',\n",
              " 'quality']"
            ]
          },
          "metadata": {},
          "execution_count": 232
        }
      ]
    },
    {
      "cell_type": "markdown",
      "source": [
        "### Tratando os dados"
      ],
      "metadata": {
        "id": "2dchWo6L9EJU"
      }
    },
    {
      "cell_type": "code",
      "source": [
        "# retirar duplicados/linhas vazias\n",
        "\n",
        "dados = dados.drop_duplicates()\n",
        "dados.dropna(how='all', inplace=True)"
      ],
      "metadata": {
        "id": "Bg3phW3bca-Y",
        "colab": {
          "base_uri": "https://localhost:8080/"
        },
        "outputId": "d0d3eaf4-096d-4b48-e124-ecc6bd8a5228"
      },
      "execution_count": 233,
      "outputs": [
        {
          "output_type": "stream",
          "name": "stderr",
          "text": [
            "/usr/local/lib/python3.7/dist-packages/pandas/util/_decorators.py:311: SettingWithCopyWarning: \n",
            "A value is trying to be set on a copy of a slice from a DataFrame\n",
            "\n",
            "See the caveats in the documentation: https://pandas.pydata.org/pandas-docs/stable/user_guide/indexing.html#returning-a-view-versus-a-copy\n",
            "  return func(*args, **kwargs)\n"
          ]
        }
      ]
    },
    {
      "cell_type": "markdown",
      "metadata": {
        "id": "y0Lt1C-Ccaja"
      },
      "source": [
        "# Estatísticas descritivas"
      ]
    },
    {
      "cell_type": "code",
      "metadata": {
        "id": "POZusgEccajb",
        "colab": {
          "base_uri": "https://localhost:8080/",
          "height": 379
        },
        "outputId": "26699d93-dd69-49d9-bde6-03d95a725be3"
      },
      "source": [
        "dados.describe().round(2)"
      ],
      "execution_count": 234,
      "outputs": [
        {
          "output_type": "execute_result",
          "data": {
            "text/plain": [
              "       fixed acidity  volatile acidity  citric acid  residual sugar  \\\n",
              "count        3961.00           3961.00      3961.00         3961.00   \n",
              "mean            6.84              0.28         0.33            5.91   \n",
              "std             0.87              0.10         0.12            4.86   \n",
              "min             3.80              0.08         0.00            0.60   \n",
              "25%             6.30              0.21         0.27            1.60   \n",
              "50%             6.80              0.26         0.32            4.70   \n",
              "75%             7.30              0.33         0.39            8.90   \n",
              "max            14.20              1.10         1.66           65.80   \n",
              "\n",
              "       chlorides  free sulfur dioxide  total sulfur dioxide  density       pH  \\\n",
              "count    3961.00              3961.00               3961.00  3961.00  3961.00   \n",
              "mean        0.05                34.89                137.19     0.99     3.20   \n",
              "std         0.02                17.21                 43.13     0.00     0.15   \n",
              "min         0.01                 2.00                  9.00     0.99     2.72   \n",
              "25%         0.04                23.00                106.00     0.99     3.09   \n",
              "50%         0.04                33.00                133.00     0.99     3.18   \n",
              "75%         0.05                45.00                166.00     1.00     3.29   \n",
              "max         0.35               289.00                440.00     1.04     3.82   \n",
              "\n",
              "       sulphates  alcohol  quality  \n",
              "count    3961.00  3961.00  3961.00  \n",
              "mean        0.49    10.59     5.85  \n",
              "std         0.11     1.22     0.89  \n",
              "min         0.22     8.00     3.00  \n",
              "25%         0.41     9.50     5.00  \n",
              "50%         0.48    10.40     6.00  \n",
              "75%         0.55    11.40     6.00  \n",
              "max         1.08    14.20     9.00  "
            ],
            "text/html": [
              "\n",
              "  <div id=\"df-d5c4b8bd-a081-41bb-b756-4f8f5393424f\">\n",
              "    <div class=\"colab-df-container\">\n",
              "      <div>\n",
              "<style scoped>\n",
              "    .dataframe tbody tr th:only-of-type {\n",
              "        vertical-align: middle;\n",
              "    }\n",
              "\n",
              "    .dataframe tbody tr th {\n",
              "        vertical-align: top;\n",
              "    }\n",
              "\n",
              "    .dataframe thead th {\n",
              "        text-align: right;\n",
              "    }\n",
              "</style>\n",
              "<table border=\"1\" class=\"dataframe\">\n",
              "  <thead>\n",
              "    <tr style=\"text-align: right;\">\n",
              "      <th></th>\n",
              "      <th>fixed acidity</th>\n",
              "      <th>volatile acidity</th>\n",
              "      <th>citric acid</th>\n",
              "      <th>residual sugar</th>\n",
              "      <th>chlorides</th>\n",
              "      <th>free sulfur dioxide</th>\n",
              "      <th>total sulfur dioxide</th>\n",
              "      <th>density</th>\n",
              "      <th>pH</th>\n",
              "      <th>sulphates</th>\n",
              "      <th>alcohol</th>\n",
              "      <th>quality</th>\n",
              "    </tr>\n",
              "  </thead>\n",
              "  <tbody>\n",
              "    <tr>\n",
              "      <th>count</th>\n",
              "      <td>3961.00</td>\n",
              "      <td>3961.00</td>\n",
              "      <td>3961.00</td>\n",
              "      <td>3961.00</td>\n",
              "      <td>3961.00</td>\n",
              "      <td>3961.00</td>\n",
              "      <td>3961.00</td>\n",
              "      <td>3961.00</td>\n",
              "      <td>3961.00</td>\n",
              "      <td>3961.00</td>\n",
              "      <td>3961.00</td>\n",
              "      <td>3961.00</td>\n",
              "    </tr>\n",
              "    <tr>\n",
              "      <th>mean</th>\n",
              "      <td>6.84</td>\n",
              "      <td>0.28</td>\n",
              "      <td>0.33</td>\n",
              "      <td>5.91</td>\n",
              "      <td>0.05</td>\n",
              "      <td>34.89</td>\n",
              "      <td>137.19</td>\n",
              "      <td>0.99</td>\n",
              "      <td>3.20</td>\n",
              "      <td>0.49</td>\n",
              "      <td>10.59</td>\n",
              "      <td>5.85</td>\n",
              "    </tr>\n",
              "    <tr>\n",
              "      <th>std</th>\n",
              "      <td>0.87</td>\n",
              "      <td>0.10</td>\n",
              "      <td>0.12</td>\n",
              "      <td>4.86</td>\n",
              "      <td>0.02</td>\n",
              "      <td>17.21</td>\n",
              "      <td>43.13</td>\n",
              "      <td>0.00</td>\n",
              "      <td>0.15</td>\n",
              "      <td>0.11</td>\n",
              "      <td>1.22</td>\n",
              "      <td>0.89</td>\n",
              "    </tr>\n",
              "    <tr>\n",
              "      <th>min</th>\n",
              "      <td>3.80</td>\n",
              "      <td>0.08</td>\n",
              "      <td>0.00</td>\n",
              "      <td>0.60</td>\n",
              "      <td>0.01</td>\n",
              "      <td>2.00</td>\n",
              "      <td>9.00</td>\n",
              "      <td>0.99</td>\n",
              "      <td>2.72</td>\n",
              "      <td>0.22</td>\n",
              "      <td>8.00</td>\n",
              "      <td>3.00</td>\n",
              "    </tr>\n",
              "    <tr>\n",
              "      <th>25%</th>\n",
              "      <td>6.30</td>\n",
              "      <td>0.21</td>\n",
              "      <td>0.27</td>\n",
              "      <td>1.60</td>\n",
              "      <td>0.04</td>\n",
              "      <td>23.00</td>\n",
              "      <td>106.00</td>\n",
              "      <td>0.99</td>\n",
              "      <td>3.09</td>\n",
              "      <td>0.41</td>\n",
              "      <td>9.50</td>\n",
              "      <td>5.00</td>\n",
              "    </tr>\n",
              "    <tr>\n",
              "      <th>50%</th>\n",
              "      <td>6.80</td>\n",
              "      <td>0.26</td>\n",
              "      <td>0.32</td>\n",
              "      <td>4.70</td>\n",
              "      <td>0.04</td>\n",
              "      <td>33.00</td>\n",
              "      <td>133.00</td>\n",
              "      <td>0.99</td>\n",
              "      <td>3.18</td>\n",
              "      <td>0.48</td>\n",
              "      <td>10.40</td>\n",
              "      <td>6.00</td>\n",
              "    </tr>\n",
              "    <tr>\n",
              "      <th>75%</th>\n",
              "      <td>7.30</td>\n",
              "      <td>0.33</td>\n",
              "      <td>0.39</td>\n",
              "      <td>8.90</td>\n",
              "      <td>0.05</td>\n",
              "      <td>45.00</td>\n",
              "      <td>166.00</td>\n",
              "      <td>1.00</td>\n",
              "      <td>3.29</td>\n",
              "      <td>0.55</td>\n",
              "      <td>11.40</td>\n",
              "      <td>6.00</td>\n",
              "    </tr>\n",
              "    <tr>\n",
              "      <th>max</th>\n",
              "      <td>14.20</td>\n",
              "      <td>1.10</td>\n",
              "      <td>1.66</td>\n",
              "      <td>65.80</td>\n",
              "      <td>0.35</td>\n",
              "      <td>289.00</td>\n",
              "      <td>440.00</td>\n",
              "      <td>1.04</td>\n",
              "      <td>3.82</td>\n",
              "      <td>1.08</td>\n",
              "      <td>14.20</td>\n",
              "      <td>9.00</td>\n",
              "    </tr>\n",
              "  </tbody>\n",
              "</table>\n",
              "</div>\n",
              "      <button class=\"colab-df-convert\" onclick=\"convertToInteractive('df-d5c4b8bd-a081-41bb-b756-4f8f5393424f')\"\n",
              "              title=\"Convert this dataframe to an interactive table.\"\n",
              "              style=\"display:none;\">\n",
              "        \n",
              "  <svg xmlns=\"http://www.w3.org/2000/svg\" height=\"24px\"viewBox=\"0 0 24 24\"\n",
              "       width=\"24px\">\n",
              "    <path d=\"M0 0h24v24H0V0z\" fill=\"none\"/>\n",
              "    <path d=\"M18.56 5.44l.94 2.06.94-2.06 2.06-.94-2.06-.94-.94-2.06-.94 2.06-2.06.94zm-11 1L8.5 8.5l.94-2.06 2.06-.94-2.06-.94L8.5 2.5l-.94 2.06-2.06.94zm10 10l.94 2.06.94-2.06 2.06-.94-2.06-.94-.94-2.06-.94 2.06-2.06.94z\"/><path d=\"M17.41 7.96l-1.37-1.37c-.4-.4-.92-.59-1.43-.59-.52 0-1.04.2-1.43.59L10.3 9.45l-7.72 7.72c-.78.78-.78 2.05 0 2.83L4 21.41c.39.39.9.59 1.41.59.51 0 1.02-.2 1.41-.59l7.78-7.78 2.81-2.81c.8-.78.8-2.07 0-2.86zM5.41 20L4 18.59l7.72-7.72 1.47 1.35L5.41 20z\"/>\n",
              "  </svg>\n",
              "      </button>\n",
              "      \n",
              "  <style>\n",
              "    .colab-df-container {\n",
              "      display:flex;\n",
              "      flex-wrap:wrap;\n",
              "      gap: 12px;\n",
              "    }\n",
              "\n",
              "    .colab-df-convert {\n",
              "      background-color: #E8F0FE;\n",
              "      border: none;\n",
              "      border-radius: 50%;\n",
              "      cursor: pointer;\n",
              "      display: none;\n",
              "      fill: #1967D2;\n",
              "      height: 32px;\n",
              "      padding: 0 0 0 0;\n",
              "      width: 32px;\n",
              "    }\n",
              "\n",
              "    .colab-df-convert:hover {\n",
              "      background-color: #E2EBFA;\n",
              "      box-shadow: 0px 1px 2px rgba(60, 64, 67, 0.3), 0px 1px 3px 1px rgba(60, 64, 67, 0.15);\n",
              "      fill: #174EA6;\n",
              "    }\n",
              "\n",
              "    [theme=dark] .colab-df-convert {\n",
              "      background-color: #3B4455;\n",
              "      fill: #D2E3FC;\n",
              "    }\n",
              "\n",
              "    [theme=dark] .colab-df-convert:hover {\n",
              "      background-color: #434B5C;\n",
              "      box-shadow: 0px 1px 3px 1px rgba(0, 0, 0, 0.15);\n",
              "      filter: drop-shadow(0px 1px 2px rgba(0, 0, 0, 0.3));\n",
              "      fill: #FFFFFF;\n",
              "    }\n",
              "  </style>\n",
              "\n",
              "      <script>\n",
              "        const buttonEl =\n",
              "          document.querySelector('#df-d5c4b8bd-a081-41bb-b756-4f8f5393424f button.colab-df-convert');\n",
              "        buttonEl.style.display =\n",
              "          google.colab.kernel.accessAllowed ? 'block' : 'none';\n",
              "\n",
              "        async function convertToInteractive(key) {\n",
              "          const element = document.querySelector('#df-d5c4b8bd-a081-41bb-b756-4f8f5393424f');\n",
              "          const dataTable =\n",
              "            await google.colab.kernel.invokeFunction('convertToInteractive',\n",
              "                                                     [key], {});\n",
              "          if (!dataTable) return;\n",
              "\n",
              "          const docLinkHtml = 'Like what you see? Visit the ' +\n",
              "            '<a target=\"_blank\" href=https://colab.research.google.com/notebooks/data_table.ipynb>data table notebook</a>'\n",
              "            + ' to learn more about interactive tables.';\n",
              "          element.innerHTML = '';\n",
              "          dataTable['output_type'] = 'display_data';\n",
              "          await google.colab.output.renderOutput(dataTable, element);\n",
              "          const docLink = document.createElement('div');\n",
              "          docLink.innerHTML = docLinkHtml;\n",
              "          element.appendChild(docLink);\n",
              "        }\n",
              "      </script>\n",
              "    </div>\n",
              "  </div>\n",
              "  "
            ]
          },
          "metadata": {},
          "execution_count": 234
        }
      ]
    },
    {
      "cell_type": "markdown",
      "source": [
        "# Visualização Gráfica"
      ],
      "metadata": {
        "id": "-IncbU1Teumv"
      }
    },
    {
      "cell_type": "code",
      "source": [
        "plt.figure(figsize=(10,5))\n",
        "dados.boxplot(column=['quality'])"
      ],
      "metadata": {
        "colab": {
          "base_uri": "https://localhost:8080/",
          "height": 337
        },
        "id": "ZWrO-iiRdDf3",
        "outputId": "684312bc-b4ee-41c0-bbbe-20fa3444bef5"
      },
      "execution_count": 235,
      "outputs": [
        {
          "output_type": "execute_result",
          "data": {
            "text/plain": [
              "<matplotlib.axes._subplots.AxesSubplot at 0x7f57e9924190>"
            ]
          },
          "metadata": {},
          "execution_count": 235
        },
        {
          "output_type": "display_data",
          "data": {
            "text/plain": [
              "<Figure size 720x360 with 1 Axes>"
            ],
            "image/png": "[encoded data removed]"
          },
          "metadata": {
            "needs_background": "light"
          }
        }
      ]
    },
    {
      "cell_type": "code",
      "source": [
        "# qualidade do vinho\n",
        "\n",
        "plt.figure(figsize=(10,5))\n",
        "sns.histplot(x='quality', data=dados)"
      ],
      "metadata": {
        "id": "cKxnf1h_v0bQ",
        "colab": {
          "base_uri": "https://localhost:8080/",
          "height": 351
        },
        "outputId": "94514368-661a-40f8-868b-f374676580bd"
      },
      "execution_count": 236,
      "outputs": [
        {
          "output_type": "execute_result",
          "data": {
            "text/plain": [
              "<matplotlib.axes._subplots.AxesSubplot at 0x7f57e9893ad0>"
            ]
          },
          "metadata": {},
          "execution_count": 236
        },
        {
          "output_type": "display_data",
          "data": {
            "text/plain": [
              "<Figure size 720x360 with 1 Axes>"
            ],
            "image/png": "[encoded data removed]"
          },
          "metadata": {
            "needs_background": "light"
          }
        }
      ]
    },
    {
      "cell_type": "code",
      "source": [
        "print(f'O grafico acima mostra que a media de qualidade dos vinhos é entre 5 e 7, e sendo mais exatos {round(dados.quality.mean(),2)} .')\n",
        "print('E no nosso boxPlot conseguimos notar que a muitos outliers em nossos dados.')"
      ],
      "metadata": {
        "colab": {
          "base_uri": "https://localhost:8080/"
        },
        "id": "ugzjhDnNLsh4",
        "outputId": "ebbf6ada-84e8-42b8-854d-aa62d4695d85"
      },
      "execution_count": 237,
      "outputs": [
        {
          "output_type": "stream",
          "name": "stdout",
          "text": [
            "O grafico acima mostra que a media de qualidade dos vinhos é entre 5 e 7, e sendo mais exatos 5.85 .\n",
            "E no nosso boxPlot conseguimos notar que a muitos outliers em nossos dados.\n"
          ]
        }
      ]
    },
    {
      "cell_type": "markdown",
      "metadata": {
        "id": "c2OpdF85cajl"
      },
      "source": [
        "# Análise da correlação\n"
      ]
    },
    {
      "cell_type": "code",
      "metadata": {
        "id": "eQEiUOdccajm",
        "scrolled": true,
        "colab": {
          "base_uri": "https://localhost:8080/",
          "height": 646
        },
        "outputId": "750a2f0f-3a89-4871-e349-53140dc47fe7"
      },
      "source": [
        "correlacao = dados.corr()\n",
        "correlacao"
      ],
      "execution_count": 238,
      "outputs": [
        {
          "output_type": "execute_result",
          "data": {
            "text/plain": [
              "                      fixed acidity  volatile acidity  citric acid  \\\n",
              "fixed acidity              1.000000         -0.019214     0.298959   \n",
              "volatile acidity          -0.019214          1.000000    -0.163228   \n",
              "citric acid                0.298959         -0.163228     1.000000   \n",
              "residual sugar             0.083620          0.098340     0.106269   \n",
              "chlorides                  0.024036          0.086287     0.132590   \n",
              "free sulfur dioxide       -0.058396         -0.102471     0.091681   \n",
              "total sulfur dioxide       0.082425          0.102315     0.122845   \n",
              "density                    0.266091          0.060603     0.160076   \n",
              "pH                        -0.431274         -0.046954    -0.183015   \n",
              "sulphates                 -0.017453         -0.021150     0.049442   \n",
              "alcohol                   -0.110788          0.046815    -0.076514   \n",
              "quality                   -0.124636         -0.190678     0.007065   \n",
              "\n",
              "                      residual sugar  chlorides  free sulfur dioxide  \\\n",
              "fixed acidity               0.083620   0.024036            -0.058396   \n",
              "volatile acidity            0.098340   0.086287            -0.102471   \n",
              "citric acid                 0.106269   0.132590             0.091681   \n",
              "residual sugar              1.000000   0.076091             0.306835   \n",
              "chlorides                   0.076091   1.000000             0.101272   \n",
              "free sulfur dioxide         0.306835   0.101272             1.000000   \n",
              "total sulfur dioxide        0.409583   0.191145             0.619437   \n",
              "density                     0.820498   0.253088             0.294638   \n",
              "pH                         -0.165997  -0.090573            -0.007750   \n",
              "sulphates                  -0.020503   0.017871             0.037932   \n",
              "alcohol                    -0.398167  -0.356928            -0.251768   \n",
              "quality                    -0.117339  -0.217739             0.010507   \n",
              "\n",
              "                      total sulfur dioxide   density        pH  sulphates  \\\n",
              "fixed acidity                     0.082425  0.266091 -0.431274  -0.017453   \n",
              "volatile acidity                  0.102315  0.060603 -0.046954  -0.021150   \n",
              "citric acid                       0.122845  0.160076 -0.183015   0.049442   \n",
              "residual sugar                    0.409583  0.820498 -0.165997  -0.020503   \n",
              "chlorides                         0.191145  0.253088 -0.090573   0.017871   \n",
              "free sulfur dioxide               0.619437  0.294638 -0.007750   0.037932   \n",
              "total sulfur dioxide              1.000000  0.536868  0.008239   0.136544   \n",
              "density                           0.536868  1.000000 -0.063734   0.082048   \n",
              "pH                                0.008239 -0.063734  1.000000   0.142353   \n",
              "sulphates                         0.136544  0.082048  0.142353   1.000000   \n",
              "alcohol                          -0.446643 -0.760162  0.093095  -0.022850   \n",
              "quality                          -0.183356 -0.337805  0.123829   0.053200   \n",
              "\n",
              "                       alcohol   quality  \n",
              "fixed acidity        -0.110788 -0.124636  \n",
              "volatile acidity      0.046815 -0.190678  \n",
              "citric acid          -0.076514  0.007065  \n",
              "residual sugar       -0.398167 -0.117339  \n",
              "chlorides            -0.356928 -0.217739  \n",
              "free sulfur dioxide  -0.251768  0.010507  \n",
              "total sulfur dioxide -0.446643 -0.183356  \n",
              "density              -0.760162 -0.337805  \n",
              "pH                    0.093095  0.123829  \n",
              "sulphates            -0.022850  0.053200  \n",
              "alcohol               1.000000  0.462869  \n",
              "quality               0.462869  1.000000  "
            ],
            "text/html": [
              "\n",
              "  <div id=\"df-46b9b8cb-97ba-4918-9ede-310a7041527d\">\n",
              "    <div class=\"colab-df-container\">\n",
              "      <div>\n",
              "<style scoped>\n",
              "    .dataframe tbody tr th:only-of-type {\n",
              "        vertical-align: middle;\n",
              "    }\n",
              "\n",
              "    .dataframe tbody tr th {\n",
              "        vertical-align: top;\n",
              "    }\n",
              "\n",
              "    .dataframe thead th {\n",
              "        text-align: right;\n",
              "    }\n",
              "</style>\n",
              "<table border=\"1\" class=\"dataframe\">\n",
              "  <thead>\n",
              "    <tr style=\"text-align: right;\">\n",
              "      <th></th>\n",
              "      <th>fixed acidity</th>\n",
              "      <th>volatile acidity</th>\n",
              "      <th>citric acid</th>\n",
              "      <th>residual sugar</th>\n",
              "      <th>chlorides</th>\n",
              "      <th>free sulfur dioxide</th>\n",
              "      <th>total sulfur dioxide</th>\n",
              "      <th>density</th>\n",
              "      <th>pH</th>\n",
              "      <th>sulphates</th>\n",
              "      <th>alcohol</th>\n",
              "      <th>quality</th>\n",
              "    </tr>\n",
              "  </thead>\n",
              "  <tbody>\n",
              "    <tr>\n",
              "      <th>fixed acidity</th>\n",
              "      <td>1.000000</td>\n",
              "      <td>-0.019214</td>\n",
              "      <td>0.298959</td>\n",
              "      <td>0.083620</td>\n",
              "      <td>0.024036</td>\n",
              "      <td>-0.058396</td>\n",
              "      <td>0.082425</td>\n",
              "      <td>0.266091</td>\n",
              "      <td>-0.431274</td>\n",
              "      <td>-0.017453</td>\n",
              "      <td>-0.110788</td>\n",
              "      <td>-0.124636</td>\n",
              "    </tr>\n",
              "    <tr>\n",
              "      <th>volatile acidity</th>\n",
              "      <td>-0.019214</td>\n",
              "      <td>1.000000</td>\n",
              "      <td>-0.163228</td>\n",
              "      <td>0.098340</td>\n",
              "      <td>0.086287</td>\n",
              "      <td>-0.102471</td>\n",
              "      <td>0.102315</td>\n",
              "      <td>0.060603</td>\n",
              "      <td>-0.046954</td>\n",
              "      <td>-0.021150</td>\n",
              "      <td>0.046815</td>\n",
              "      <td>-0.190678</td>\n",
              "    </tr>\n",
              "    <tr>\n",
              "      <th>citric acid</th>\n",
              "      <td>0.298959</td>\n",
              "      <td>-0.163228</td>\n",
              "      <td>1.000000</td>\n",
              "      <td>0.106269</td>\n",
              "      <td>0.132590</td>\n",
              "      <td>0.091681</td>\n",
              "      <td>0.122845</td>\n",
              "      <td>0.160076</td>\n",
              "      <td>-0.183015</td>\n",
              "      <td>0.049442</td>\n",
              "      <td>-0.076514</td>\n",
              "      <td>0.007065</td>\n",
              "    </tr>\n",
              "    <tr>\n",
              "      <th>residual sugar</th>\n",
              "      <td>0.083620</td>\n",
              "      <td>0.098340</td>\n",
              "      <td>0.106269</td>\n",
              "      <td>1.000000</td>\n",
              "      <td>0.076091</td>\n",
              "      <td>0.306835</td>\n",
              "      <td>0.409583</td>\n",
              "      <td>0.820498</td>\n",
              "      <td>-0.165997</td>\n",
              "      <td>-0.020503</td>\n",
              "      <td>-0.398167</td>\n",
              "      <td>-0.117339</td>\n",
              "    </tr>\n",
              "    <tr>\n",
              "      <th>chlorides</th>\n",
              "      <td>0.024036</td>\n",
              "      <td>0.086287</td>\n",
              "      <td>0.132590</td>\n",
              "      <td>0.076091</td>\n",
              "      <td>1.000000</td>\n",
              "      <td>0.101272</td>\n",
              "      <td>0.191145</td>\n",
              "      <td>0.253088</td>\n",
              "      <td>-0.090573</td>\n",
              "      <td>0.017871</td>\n",
              "      <td>-0.356928</td>\n",
              "      <td>-0.217739</td>\n",
              "    </tr>\n",
              "    <tr>\n",
              "      <th>free sulfur dioxide</th>\n",
              "      <td>-0.058396</td>\n",
              "      <td>-0.102471</td>\n",
              "      <td>0.091681</td>\n",
              "      <td>0.306835</td>\n",
              "      <td>0.101272</td>\n",
              "      <td>1.000000</td>\n",
              "      <td>0.619437</td>\n",
              "      <td>0.294638</td>\n",
              "      <td>-0.007750</td>\n",
              "      <td>0.037932</td>\n",
              "      <td>-0.251768</td>\n",
              "      <td>0.010507</td>\n",
              "    </tr>\n",
              "    <tr>\n",
              "      <th>total sulfur dioxide</th>\n",
              "      <td>0.082425</td>\n",
              "      <td>0.102315</td>\n",
              "      <td>0.122845</td>\n",
              "      <td>0.409583</td>\n",
              "      <td>0.191145</td>\n",
              "      <td>0.619437</td>\n",
              "      <td>1.000000</td>\n",
              "      <td>0.536868</td>\n",
              "      <td>0.008239</td>\n",
              "      <td>0.136544</td>\n",
              "      <td>-0.446643</td>\n",
              "      <td>-0.183356</td>\n",
              "    </tr>\n",
              "    <tr>\n",
              "      <th>density</th>\n",
              "      <td>0.266091</td>\n",
              "      <td>0.060603</td>\n",
              "      <td>0.160076</td>\n",
              "      <td>0.820498</td>\n",
              "      <td>0.253088</td>\n",
              "      <td>0.294638</td>\n",
              "      <td>0.536868</td>\n",
              "      <td>1.000000</td>\n",
              "      <td>-0.063734</td>\n",
              "      <td>0.082048</td>\n",
              "      <td>-0.760162</td>\n",
              "      <td>-0.337805</td>\n",
              "    </tr>\n",
              "    <tr>\n",
              "      <th>pH</th>\n",
              "      <td>-0.431274</td>\n",
              "      <td>-0.046954</td>\n",
              "      <td>-0.183015</td>\n",
              "      <td>-0.165997</td>\n",
              "      <td>-0.090573</td>\n",
              "      <td>-0.007750</td>\n",
              "      <td>0.008239</td>\n",
              "      <td>-0.063734</td>\n",
              "      <td>1.000000</td>\n",
              "      <td>0.142353</td>\n",
              "      <td>0.093095</td>\n",
              "      <td>0.123829</td>\n",
              "    </tr>\n",
              "    <tr>\n",
              "      <th>sulphates</th>\n",
              "      <td>-0.017453</td>\n",
              "      <td>-0.021150</td>\n",
              "      <td>0.049442</td>\n",
              "      <td>-0.020503</td>\n",
              "      <td>0.017871</td>\n",
              "      <td>0.037932</td>\n",
              "      <td>0.136544</td>\n",
              "      <td>0.082048</td>\n",
              "      <td>0.142353</td>\n",
              "      <td>1.000000</td>\n",
              "      <td>-0.022850</td>\n",
              "      <td>0.053200</td>\n",
              "    </tr>\n",
              "    <tr>\n",
              "      <th>alcohol</th>\n",
              "      <td>-0.110788</td>\n",
              "      <td>0.046815</td>\n",
              "      <td>-0.076514</td>\n",
              "      <td>-0.398167</td>\n",
              "      <td>-0.356928</td>\n",
              "      <td>-0.251768</td>\n",
              "      <td>-0.446643</td>\n",
              "      <td>-0.760162</td>\n",
              "      <td>0.093095</td>\n",
              "      <td>-0.022850</td>\n",
              "      <td>1.000000</td>\n",
              "      <td>0.462869</td>\n",
              "    </tr>\n",
              "    <tr>\n",
              "      <th>quality</th>\n",
              "      <td>-0.124636</td>\n",
              "      <td>-0.190678</td>\n",
              "      <td>0.007065</td>\n",
              "      <td>-0.117339</td>\n",
              "      <td>-0.217739</td>\n",
              "      <td>0.010507</td>\n",
              "      <td>-0.183356</td>\n",
              "      <td>-0.337805</td>\n",
              "      <td>0.123829</td>\n",
              "      <td>0.053200</td>\n",
              "      <td>0.462869</td>\n",
              "      <td>1.000000</td>\n",
              "    </tr>\n",
              "  </tbody>\n",
              "</table>\n",
              "</div>\n",
              "      <button class=\"colab-df-convert\" onclick=\"convertToInteractive('df-46b9b8cb-97ba-4918-9ede-310a7041527d')\"\n",
              "              title=\"Convert this dataframe to an interactive table.\"\n",
              "              style=\"display:none;\">\n",
              "        \n",
              "  <svg xmlns=\"http://www.w3.org/2000/svg\" height=\"24px\"viewBox=\"0 0 24 24\"\n",
              "       width=\"24px\">\n",
              "    <path d=\"M0 0h24v24H0V0z\" fill=\"none\"/>\n",
              "    <path d=\"M18.56 5.44l.94 2.06.94-2.06 2.06-.94-2.06-.94-.94-2.06-.94 2.06-2.06.94zm-11 1L8.5 8.5l.94-2.06 2.06-.94-2.06-.94L8.5 2.5l-.94 2.06-2.06.94zm10 10l.94 2.06.94-2.06 2.06-.94-2.06-.94-.94-2.06-.94 2.06-2.06.94z\"/><path d=\"M17.41 7.96l-1.37-1.37c-.4-.4-.92-.59-1.43-.59-.52 0-1.04.2-1.43.59L10.3 9.45l-7.72 7.72c-.78.78-.78 2.05 0 2.83L4 21.41c.39.39.9.59 1.41.59.51 0 1.02-.2 1.41-.59l7.78-7.78 2.81-2.81c.8-.78.8-2.07 0-2.86zM5.41 20L4 18.59l7.72-7.72 1.47 1.35L5.41 20z\"/>\n",
              "  </svg>\n",
              "      </button>\n",
              "      \n",
              "  <style>\n",
              "    .colab-df-container {\n",
              "      display:flex;\n",
              "      flex-wrap:wrap;\n",
              "      gap: 12px;\n",
              "    }\n",
              "\n",
              "    .colab-df-convert {\n",
              "      background-color: #E8F0FE;\n",
              "      border: none;\n",
              "      border-radius: 50%;\n",
              "      cursor: pointer;\n",
              "      display: none;\n",
              "      fill: #1967D2;\n",
              "      height: 32px;\n",
              "      padding: 0 0 0 0;\n",
              "      width: 32px;\n",
              "    }\n",
              "\n",
              "    .colab-df-convert:hover {\n",
              "      background-color: #E2EBFA;\n",
              "      box-shadow: 0px 1px 2px rgba(60, 64, 67, 0.3), 0px 1px 3px 1px rgba(60, 64, 67, 0.15);\n",
              "      fill: #174EA6;\n",
              "    }\n",
              "\n",
              "    [theme=dark] .colab-df-convert {\n",
              "      background-color: #3B4455;\n",
              "      fill: #D2E3FC;\n",
              "    }\n",
              "\n",
              "    [theme=dark] .colab-df-convert:hover {\n",
              "      background-color: #434B5C;\n",
              "      box-shadow: 0px 1px 3px 1px rgba(0, 0, 0, 0.15);\n",
              "      filter: drop-shadow(0px 1px 2px rgba(0, 0, 0, 0.3));\n",
              "      fill: #FFFFFF;\n",
              "    }\n",
              "  </style>\n",
              "\n",
              "      <script>\n",
              "        const buttonEl =\n",
              "          document.querySelector('#df-46b9b8cb-97ba-4918-9ede-310a7041527d button.colab-df-convert');\n",
              "        buttonEl.style.display =\n",
              "          google.colab.kernel.accessAllowed ? 'block' : 'none';\n",
              "\n",
              "        async function convertToInteractive(key) {\n",
              "          const element = document.querySelector('#df-46b9b8cb-97ba-4918-9ede-310a7041527d');\n",
              "          const dataTable =\n",
              "            await google.colab.kernel.invokeFunction('convertToInteractive',\n",
              "                                                     [key], {});\n",
              "          if (!dataTable) return;\n",
              "\n",
              "          const docLinkHtml = 'Like what you see? Visit the ' +\n",
              "            '<a target=\"_blank\" href=https://colab.research.google.com/notebooks/data_table.ipynb>data table notebook</a>'\n",
              "            + ' to learn more about interactive tables.';\n",
              "          element.innerHTML = '';\n",
              "          dataTable['output_type'] = 'display_data';\n",
              "          await google.colab.output.renderOutput(dataTable, element);\n",
              "          const docLink = document.createElement('div');\n",
              "          docLink.innerHTML = docLinkHtml;\n",
              "          element.appendChild(docLink);\n",
              "        }\n",
              "      </script>\n",
              "    </div>\n",
              "  </div>\n",
              "  "
            ]
          },
          "metadata": {},
          "execution_count": 238
        }
      ]
    },
    {
      "cell_type": "code",
      "source": [
        "corr = correlacao.quality\n",
        "corr = corr.drop(['quality'], axis=0) \n",
        "corr.sort_values(ascending=False)"
      ],
      "metadata": {
        "id": "mI22CBYmwOhh",
        "colab": {
          "base_uri": "https://localhost:8080/"
        },
        "outputId": "695769c3-3921-470c-e91c-b1bb8564a71c"
      },
      "execution_count": 239,
      "outputs": [
        {
          "output_type": "execute_result",
          "data": {
            "text/plain": [
              "alcohol                 0.462869\n",
              "pH                      0.123829\n",
              "sulphates               0.053200\n",
              "free sulfur dioxide     0.010507\n",
              "citric acid             0.007065\n",
              "residual sugar         -0.117339\n",
              "fixed acidity          -0.124636\n",
              "total sulfur dioxide   -0.183356\n",
              "volatile acidity       -0.190678\n",
              "chlorides              -0.217739\n",
              "density                -0.337805\n",
              "Name: quality, dtype: float64"
            ]
          },
          "metadata": {},
          "execution_count": 239
        }
      ]
    },
    {
      "cell_type": "code",
      "source": [
        "plt.figure(figsize=(15,15))\n",
        "plot = sns.heatmap(correlacao,annot = True,fmt=\".1f\",linewidths=.6,cmap= sns.color_palette(\"ch:start=.2,rot=-.3\", as_cmap=True))\n",
        "plt.title('Correlação entre variáveis do dataset',fontsize= 20,color='darkblue')\n",
        "plt.show()"
      ],
      "metadata": {
        "colab": {
          "base_uri": "https://localhost:8080/",
          "height": 969
        },
        "id": "CRxk0MYN3yil",
        "outputId": "ac28afb5-7a0d-4370-8b5f-f071d91cb74d"
      },
      "execution_count": 240,
      "outputs": [
        {
          "output_type": "display_data",
          "data": {
            "text/plain": [
              "<Figure size 1080x1080 with 2 Axes>"
            ],
            "image/png": "[encoded data removed]"
          },
          "metadata": {
            "needs_background": "light"
          }
        }
      ]
    },
    {
      "cell_type": "code",
      "source": [
        "print('Analisando o grafico de correlação conseguimos perceber pontos como \\na densidade do vinho estar correlacionada com o nivel residual de açucar;')\n",
        "print('a baixa qualidade do vinho estar ligada a densidade do mesmo;')\n",
        "print('a qualidade do vinho esta ligada principalmente ao seu nivel alcoolico;')\n",
        "print('dentre outras observações.')"
      ],
      "metadata": {
        "colab": {
          "base_uri": "https://localhost:8080/"
        },
        "id": "upXmINE0l_Us",
        "outputId": "7b3e9d8f-9ac1-4cc8-b50e-977c6c1496d0"
      },
      "execution_count": 279,
      "outputs": [
        {
          "output_type": "stream",
          "name": "stdout",
          "text": [
            "Analisando o grafico de correlação conseguimos perceber pontos como \n",
            "a densidade do vinho estar correlacionada com o nivel residual de açucar;\n",
            "a baixa qualidade do vinho estar ligada a densidade do mesmo;\n",
            "a qualidade do vinho esta ligada principalmente ao seu nivel alcoolico;\n",
            "dentre outras observações.\n"
          ]
        }
      ]
    },
    {
      "cell_type": "code",
      "source": [
        "plt.figure(figsize=(10,10))\n",
        "sns.clustermap(abs(correlacao), cmap=sns.color_palette(\"ch:start=.2,rot=-.3\", as_cmap=True))"
      ],
      "metadata": {
        "colab": {
          "base_uri": "https://localhost:8080/",
          "height": 765
        },
        "id": "ikTINS8nvRja",
        "outputId": "94d65d28-9bff-4624-a62b-67dfc0ae5ae2"
      },
      "execution_count": 241,
      "outputs": [
        {
          "output_type": "execute_result",
          "data": {
            "text/plain": [
              "<seaborn.matrix.ClusterGrid at 0x7f57e97acc10>"
            ]
          },
          "metadata": {},
          "execution_count": 241
        },
        {
          "output_type": "display_data",
          "data": {
            "text/plain": [
              "<Figure size 720x720 with 0 Axes>"
            ]
          },
          "metadata": {}
        },
        {
          "output_type": "display_data",
          "data": {
            "text/plain": [
              "<Figure size 720x720 with 4 Axes>"
            ],
            "image/png": "[encoded data removed]"
          },
          "metadata": {
            "needs_background": "light"
          }
        }
      ]
    },
    {
      "cell_type": "code",
      "source": [
        "# Relação Alcool X Qualidade\n",
        "\n",
        "plt.figure(figsize=(10,10))\n",
        "sns.scatterplot(dados.quality, dados.alcohol)"
      ],
      "metadata": {
        "colab": {
          "base_uri": "https://localhost:8080/",
          "height": 678
        },
        "id": "3Rmkg0eEdiRC",
        "outputId": "afc85805-50ec-4e21-d457-7c36f64f4927"
      },
      "execution_count": 242,
      "outputs": [
        {
          "output_type": "stream",
          "name": "stderr",
          "text": [
            "/usr/local/lib/python3.7/dist-packages/seaborn/_decorators.py:43: FutureWarning: Pass the following variables as keyword args: x, y. From version 0.12, the only valid positional argument will be `data`, and passing other arguments without an explicit keyword will result in an error or misinterpretation.\n",
            "  FutureWarning\n"
          ]
        },
        {
          "output_type": "execute_result",
          "data": {
            "text/plain": [
              "<matplotlib.axes._subplots.AxesSubplot at 0x7f57e97ac1d0>"
            ]
          },
          "metadata": {},
          "execution_count": 242
        },
        {
          "output_type": "display_data",
          "data": {
            "text/plain": [
              "<Figure size 720x720 with 1 Axes>"
            ],
            "image/png": "[encoded data removed]"
          },
          "metadata": {
            "needs_background": "light"
          }
        }
      ]
    },
    {
      "cell_type": "code",
      "source": [
        "dataset = {\n",
        "    'Y_Qualidade_do_Vinho': dados.quality,\n",
        "    'X_Alcool': dados.alcohol}\n",
        "\n",
        "dataset = pd.DataFrame(dataset)\n",
        "dataset.head()"
      ],
      "metadata": {
        "id": "2mWwnehHJb9O",
        "colab": {
          "base_uri": "https://localhost:8080/",
          "height": 206
        },
        "outputId": "dddf8fdf-6a5d-4d26-cb09-4ea72783afdf"
      },
      "execution_count": 243,
      "outputs": [
        {
          "output_type": "execute_result",
          "data": {
            "text/plain": [
              "   Y_Qualidade_do_Vinho  X_Alcool\n",
              "0                     6       8.8\n",
              "1                     6       9.5\n",
              "2                     6      10.1\n",
              "3                     6       9.9\n",
              "6                     6       9.6"
            ],
            "text/html": [
              "\n",
              "  <div id=\"df-63888784-169e-4f6b-9b40-0eaeda59a103\">\n",
              "    <div class=\"colab-df-container\">\n",
              "      <div>\n",
              "<style scoped>\n",
              "    .dataframe tbody tr th:only-of-type {\n",
              "        vertical-align: middle;\n",
              "    }\n",
              "\n",
              "    .dataframe tbody tr th {\n",
              "        vertical-align: top;\n",
              "    }\n",
              "\n",
              "    .dataframe thead th {\n",
              "        text-align: right;\n",
              "    }\n",
              "</style>\n",
              "<table border=\"1\" class=\"dataframe\">\n",
              "  <thead>\n",
              "    <tr style=\"text-align: right;\">\n",
              "      <th></th>\n",
              "      <th>Y_Qualidade_do_Vinho</th>\n",
              "      <th>X_Alcool</th>\n",
              "    </tr>\n",
              "  </thead>\n",
              "  <tbody>\n",
              "    <tr>\n",
              "      <th>0</th>\n",
              "      <td>6</td>\n",
              "      <td>8.8</td>\n",
              "    </tr>\n",
              "    <tr>\n",
              "      <th>1</th>\n",
              "      <td>6</td>\n",
              "      <td>9.5</td>\n",
              "    </tr>\n",
              "    <tr>\n",
              "      <th>2</th>\n",
              "      <td>6</td>\n",
              "      <td>10.1</td>\n",
              "    </tr>\n",
              "    <tr>\n",
              "      <th>3</th>\n",
              "      <td>6</td>\n",
              "      <td>9.9</td>\n",
              "    </tr>\n",
              "    <tr>\n",
              "      <th>6</th>\n",
              "      <td>6</td>\n",
              "      <td>9.6</td>\n",
              "    </tr>\n",
              "  </tbody>\n",
              "</table>\n",
              "</div>\n",
              "      <button class=\"colab-df-convert\" onclick=\"convertToInteractive('df-63888784-169e-4f6b-9b40-0eaeda59a103')\"\n",
              "              title=\"Convert this dataframe to an interactive table.\"\n",
              "              style=\"display:none;\">\n",
              "        \n",
              "  <svg xmlns=\"http://www.w3.org/2000/svg\" height=\"24px\"viewBox=\"0 0 24 24\"\n",
              "       width=\"24px\">\n",
              "    <path d=\"M0 0h24v24H0V0z\" fill=\"none\"/>\n",
              "    <path d=\"M18.56 5.44l.94 2.06.94-2.06 2.06-.94-2.06-.94-.94-2.06-.94 2.06-2.06.94zm-11 1L8.5 8.5l.94-2.06 2.06-.94-2.06-.94L8.5 2.5l-.94 2.06-2.06.94zm10 10l.94 2.06.94-2.06 2.06-.94-2.06-.94-.94-2.06-.94 2.06-2.06.94z\"/><path d=\"M17.41 7.96l-1.37-1.37c-.4-.4-.92-.59-1.43-.59-.52 0-1.04.2-1.43.59L10.3 9.45l-7.72 7.72c-.78.78-.78 2.05 0 2.83L4 21.41c.39.39.9.59 1.41.59.51 0 1.02-.2 1.41-.59l7.78-7.78 2.81-2.81c.8-.78.8-2.07 0-2.86zM5.41 20L4 18.59l7.72-7.72 1.47 1.35L5.41 20z\"/>\n",
              "  </svg>\n",
              "      </button>\n",
              "      \n",
              "  <style>\n",
              "    .colab-df-container {\n",
              "      display:flex;\n",
              "      flex-wrap:wrap;\n",
              "      gap: 12px;\n",
              "    }\n",
              "\n",
              "    .colab-df-convert {\n",
              "      background-color: #E8F0FE;\n",
              "      border: none;\n",
              "      border-radius: 50%;\n",
              "      cursor: pointer;\n",
              "      display: none;\n",
              "      fill: #1967D2;\n",
              "      height: 32px;\n",
              "      padding: 0 0 0 0;\n",
              "      width: 32px;\n",
              "    }\n",
              "\n",
              "    .colab-df-convert:hover {\n",
              "      background-color: #E2EBFA;\n",
              "      box-shadow: 0px 1px 2px rgba(60, 64, 67, 0.3), 0px 1px 3px 1px rgba(60, 64, 67, 0.15);\n",
              "      fill: #174EA6;\n",
              "    }\n",
              "\n",
              "    [theme=dark] .colab-df-convert {\n",
              "      background-color: #3B4455;\n",
              "      fill: #D2E3FC;\n",
              "    }\n",
              "\n",
              "    [theme=dark] .colab-df-convert:hover {\n",
              "      background-color: #434B5C;\n",
              "      box-shadow: 0px 1px 3px 1px rgba(0, 0, 0, 0.15);\n",
              "      filter: drop-shadow(0px 1px 2px rgba(0, 0, 0, 0.3));\n",
              "      fill: #FFFFFF;\n",
              "    }\n",
              "  </style>\n",
              "\n",
              "      <script>\n",
              "        const buttonEl =\n",
              "          document.querySelector('#df-63888784-169e-4f6b-9b40-0eaeda59a103 button.colab-df-convert');\n",
              "        buttonEl.style.display =\n",
              "          google.colab.kernel.accessAllowed ? 'block' : 'none';\n",
              "\n",
              "        async function convertToInteractive(key) {\n",
              "          const element = document.querySelector('#df-63888784-169e-4f6b-9b40-0eaeda59a103');\n",
              "          const dataTable =\n",
              "            await google.colab.kernel.invokeFunction('convertToInteractive',\n",
              "                                                     [key], {});\n",
              "          if (!dataTable) return;\n",
              "\n",
              "          const docLinkHtml = 'Like what you see? Visit the ' +\n",
              "            '<a target=\"_blank\" href=https://colab.research.google.com/notebooks/data_table.ipynb>data table notebook</a>'\n",
              "            + ' to learn more about interactive tables.';\n",
              "          element.innerHTML = '';\n",
              "          dataTable['output_type'] = 'display_data';\n",
              "          await google.colab.output.renderOutput(dataTable, element);\n",
              "          const docLink = document.createElement('div');\n",
              "          docLink.innerHTML = docLinkHtml;\n",
              "          element.appendChild(docLink);\n",
              "        }\n",
              "      </script>\n",
              "    </div>\n",
              "  </div>\n",
              "  "
            ]
          },
          "metadata": {},
          "execution_count": 243
        }
      ]
    },
    {
      "cell_type": "code",
      "source": [
        "dataset.corr()"
      ],
      "metadata": {
        "id": "zUM4Mm5dJve6",
        "colab": {
          "base_uri": "https://localhost:8080/",
          "height": 112
        },
        "outputId": "0a29a782-cfa0-4060-af0e-cebc752f3017"
      },
      "execution_count": 244,
      "outputs": [
        {
          "output_type": "execute_result",
          "data": {
            "text/plain": [
              "                      Y_Qualidade_do_Vinho  X_Alcool\n",
              "Y_Qualidade_do_Vinho              1.000000  0.462869\n",
              "X_Alcool                          0.462869  1.000000"
            ],
            "text/html": [
              "\n",
              "  <div id=\"df-4535e146-1bea-4a48-9938-79f457ecd8e8\">\n",
              "    <div class=\"colab-df-container\">\n",
              "      <div>\n",
              "<style scoped>\n",
              "    .dataframe tbody tr th:only-of-type {\n",
              "        vertical-align: middle;\n",
              "    }\n",
              "\n",
              "    .dataframe tbody tr th {\n",
              "        vertical-align: top;\n",
              "    }\n",
              "\n",
              "    .dataframe thead th {\n",
              "        text-align: right;\n",
              "    }\n",
              "</style>\n",
              "<table border=\"1\" class=\"dataframe\">\n",
              "  <thead>\n",
              "    <tr style=\"text-align: right;\">\n",
              "      <th></th>\n",
              "      <th>Y_Qualidade_do_Vinho</th>\n",
              "      <th>X_Alcool</th>\n",
              "    </tr>\n",
              "  </thead>\n",
              "  <tbody>\n",
              "    <tr>\n",
              "      <th>Y_Qualidade_do_Vinho</th>\n",
              "      <td>1.000000</td>\n",
              "      <td>0.462869</td>\n",
              "    </tr>\n",
              "    <tr>\n",
              "      <th>X_Alcool</th>\n",
              "      <td>0.462869</td>\n",
              "      <td>1.000000</td>\n",
              "    </tr>\n",
              "  </tbody>\n",
              "</table>\n",
              "</div>\n",
              "      <button class=\"colab-df-convert\" onclick=\"convertToInteractive('df-4535e146-1bea-4a48-9938-79f457ecd8e8')\"\n",
              "              title=\"Convert this dataframe to an interactive table.\"\n",
              "              style=\"display:none;\">\n",
              "        \n",
              "  <svg xmlns=\"http://www.w3.org/2000/svg\" height=\"24px\"viewBox=\"0 0 24 24\"\n",
              "       width=\"24px\">\n",
              "    <path d=\"M0 0h24v24H0V0z\" fill=\"none\"/>\n",
              "    <path d=\"M18.56 5.44l.94 2.06.94-2.06 2.06-.94-2.06-.94-.94-2.06-.94 2.06-2.06.94zm-11 1L8.5 8.5l.94-2.06 2.06-.94-2.06-.94L8.5 2.5l-.94 2.06-2.06.94zm10 10l.94 2.06.94-2.06 2.06-.94-2.06-.94-.94-2.06-.94 2.06-2.06.94z\"/><path d=\"M17.41 7.96l-1.37-1.37c-.4-.4-.92-.59-1.43-.59-.52 0-1.04.2-1.43.59L10.3 9.45l-7.72 7.72c-.78.78-.78 2.05 0 2.83L4 21.41c.39.39.9.59 1.41.59.51 0 1.02-.2 1.41-.59l7.78-7.78 2.81-2.81c.8-.78.8-2.07 0-2.86zM5.41 20L4 18.59l7.72-7.72 1.47 1.35L5.41 20z\"/>\n",
              "  </svg>\n",
              "      </button>\n",
              "      \n",
              "  <style>\n",
              "    .colab-df-container {\n",
              "      display:flex;\n",
              "      flex-wrap:wrap;\n",
              "      gap: 12px;\n",
              "    }\n",
              "\n",
              "    .colab-df-convert {\n",
              "      background-color: #E8F0FE;\n",
              "      border: none;\n",
              "      border-radius: 50%;\n",
              "      cursor: pointer;\n",
              "      display: none;\n",
              "      fill: #1967D2;\n",
              "      height: 32px;\n",
              "      padding: 0 0 0 0;\n",
              "      width: 32px;\n",
              "    }\n",
              "\n",
              "    .colab-df-convert:hover {\n",
              "      background-color: #E2EBFA;\n",
              "      box-shadow: 0px 1px 2px rgba(60, 64, 67, 0.3), 0px 1px 3px 1px rgba(60, 64, 67, 0.15);\n",
              "      fill: #174EA6;\n",
              "    }\n",
              "\n",
              "    [theme=dark] .colab-df-convert {\n",
              "      background-color: #3B4455;\n",
              "      fill: #D2E3FC;\n",
              "    }\n",
              "\n",
              "    [theme=dark] .colab-df-convert:hover {\n",
              "      background-color: #434B5C;\n",
              "      box-shadow: 0px 1px 3px 1px rgba(0, 0, 0, 0.15);\n",
              "      filter: drop-shadow(0px 1px 2px rgba(0, 0, 0, 0.3));\n",
              "      fill: #FFFFFF;\n",
              "    }\n",
              "  </style>\n",
              "\n",
              "      <script>\n",
              "        const buttonEl =\n",
              "          document.querySelector('#df-4535e146-1bea-4a48-9938-79f457ecd8e8 button.colab-df-convert');\n",
              "        buttonEl.style.display =\n",
              "          google.colab.kernel.accessAllowed ? 'block' : 'none';\n",
              "\n",
              "        async function convertToInteractive(key) {\n",
              "          const element = document.querySelector('#df-4535e146-1bea-4a48-9938-79f457ecd8e8');\n",
              "          const dataTable =\n",
              "            await google.colab.kernel.invokeFunction('convertToInteractive',\n",
              "                                                     [key], {});\n",
              "          if (!dataTable) return;\n",
              "\n",
              "          const docLinkHtml = 'Like what you see? Visit the ' +\n",
              "            '<a target=\"_blank\" href=https://colab.research.google.com/notebooks/data_table.ipynb>data table notebook</a>'\n",
              "            + ' to learn more about interactive tables.';\n",
              "          element.innerHTML = '';\n",
              "          dataTable['output_type'] = 'display_data';\n",
              "          await google.colab.output.renderOutput(dataTable, element);\n",
              "          const docLink = document.createElement('div');\n",
              "          docLink.innerHTML = docLinkHtml;\n",
              "          element.appendChild(docLink);\n",
              "        }\n",
              "      </script>\n",
              "    </div>\n",
              "  </div>\n",
              "  "
            ]
          },
          "metadata": {},
          "execution_count": 244
        }
      ]
    },
    {
      "cell_type": "markdown",
      "metadata": {
        "id": "cPOlHTg2cajo"
      },
      "source": [
        "# Modelo de regressão linear simples\n"
      ]
    },
    {
      "cell_type": "code",
      "metadata": {
        "id": "iBQFGkf_cajr",
        "colab": {
          "base_uri": "https://localhost:8080/"
        },
        "outputId": "21cb5ecc-ecf8-4b17-d4be-19f42b194e0d"
      },
      "source": [
        "y = dataset.Y_Qualidade_do_Vinho\n",
        "x = sm.add_constant(dataset.X_Alcool)\n",
        "\n",
        "y.head()"
      ],
      "execution_count": 245,
      "outputs": [
        {
          "output_type": "stream",
          "name": "stderr",
          "text": [
            "/usr/local/lib/python3.7/dist-packages/statsmodels/tsa/tsatools.py:117: FutureWarning: In a future version of pandas all arguments of concat except for the argument 'objs' will be keyword-only\n",
            "  x = pd.concat(x[::order], 1)\n"
          ]
        },
        {
          "output_type": "execute_result",
          "data": {
            "text/plain": [
              "0    6\n",
              "1    6\n",
              "2    6\n",
              "3    6\n",
              "6    6\n",
              "Name: Y_Qualidade_do_Vinho, dtype: int64"
            ]
          },
          "metadata": {},
          "execution_count": 245
        }
      ]
    },
    {
      "cell_type": "code",
      "metadata": {
        "id": "lBrVRfVfcajv",
        "scrolled": true,
        "colab": {
          "base_uri": "https://localhost:8080/",
          "height": 206
        },
        "outputId": "db74f048-a6b9-4bdc-8af8-e4006ba67a37"
      },
      "source": [
        "x.head()"
      ],
      "execution_count": 246,
      "outputs": [
        {
          "output_type": "execute_result",
          "data": {
            "text/plain": [
              "   const  X_Alcool\n",
              "0    1.0       8.8\n",
              "1    1.0       9.5\n",
              "2    1.0      10.1\n",
              "3    1.0       9.9\n",
              "6    1.0       9.6"
            ],
            "text/html": [
              "\n",
              "  <div id=\"df-916f1d9e-b2fb-4b1c-b204-b4232e336e9d\">\n",
              "    <div class=\"colab-df-container\">\n",
              "      <div>\n",
              "<style scoped>\n",
              "    .dataframe tbody tr th:only-of-type {\n",
              "        vertical-align: middle;\n",
              "    }\n",
              "\n",
              "    .dataframe tbody tr th {\n",
              "        vertical-align: top;\n",
              "    }\n",
              "\n",
              "    .dataframe thead th {\n",
              "        text-align: right;\n",
              "    }\n",
              "</style>\n",
              "<table border=\"1\" class=\"dataframe\">\n",
              "  <thead>\n",
              "    <tr style=\"text-align: right;\">\n",
              "      <th></th>\n",
              "      <th>const</th>\n",
              "      <th>X_Alcool</th>\n",
              "    </tr>\n",
              "  </thead>\n",
              "  <tbody>\n",
              "    <tr>\n",
              "      <th>0</th>\n",
              "      <td>1.0</td>\n",
              "      <td>8.8</td>\n",
              "    </tr>\n",
              "    <tr>\n",
              "      <th>1</th>\n",
              "      <td>1.0</td>\n",
              "      <td>9.5</td>\n",
              "    </tr>\n",
              "    <tr>\n",
              "      <th>2</th>\n",
              "      <td>1.0</td>\n",
              "      <td>10.1</td>\n",
              "    </tr>\n",
              "    <tr>\n",
              "      <th>3</th>\n",
              "      <td>1.0</td>\n",
              "      <td>9.9</td>\n",
              "    </tr>\n",
              "    <tr>\n",
              "      <th>6</th>\n",
              "      <td>1.0</td>\n",
              "      <td>9.6</td>\n",
              "    </tr>\n",
              "  </tbody>\n",
              "</table>\n",
              "</div>\n",
              "      <button class=\"colab-df-convert\" onclick=\"convertToInteractive('df-916f1d9e-b2fb-4b1c-b204-b4232e336e9d')\"\n",
              "              title=\"Convert this dataframe to an interactive table.\"\n",
              "              style=\"display:none;\">\n",
              "        \n",
              "  <svg xmlns=\"http://www.w3.org/2000/svg\" height=\"24px\"viewBox=\"0 0 24 24\"\n",
              "       width=\"24px\">\n",
              "    <path d=\"M0 0h24v24H0V0z\" fill=\"none\"/>\n",
              "    <path d=\"M18.56 5.44l.94 2.06.94-2.06 2.06-.94-2.06-.94-.94-2.06-.94 2.06-2.06.94zm-11 1L8.5 8.5l.94-2.06 2.06-.94-2.06-.94L8.5 2.5l-.94 2.06-2.06.94zm10 10l.94 2.06.94-2.06 2.06-.94-2.06-.94-.94-2.06-.94 2.06-2.06.94z\"/><path d=\"M17.41 7.96l-1.37-1.37c-.4-.4-.92-.59-1.43-.59-.52 0-1.04.2-1.43.59L10.3 9.45l-7.72 7.72c-.78.78-.78 2.05 0 2.83L4 21.41c.39.39.9.59 1.41.59.51 0 1.02-.2 1.41-.59l7.78-7.78 2.81-2.81c.8-.78.8-2.07 0-2.86zM5.41 20L4 18.59l7.72-7.72 1.47 1.35L5.41 20z\"/>\n",
              "  </svg>\n",
              "      </button>\n",
              "      \n",
              "  <style>\n",
              "    .colab-df-container {\n",
              "      display:flex;\n",
              "      flex-wrap:wrap;\n",
              "      gap: 12px;\n",
              "    }\n",
              "\n",
              "    .colab-df-convert {\n",
              "      background-color: #E8F0FE;\n",
              "      border: none;\n",
              "      border-radius: 50%;\n",
              "      cursor: pointer;\n",
              "      display: none;\n",
              "      fill: #1967D2;\n",
              "      height: 32px;\n",
              "      padding: 0 0 0 0;\n",
              "      width: 32px;\n",
              "    }\n",
              "\n",
              "    .colab-df-convert:hover {\n",
              "      background-color: #E2EBFA;\n",
              "      box-shadow: 0px 1px 2px rgba(60, 64, 67, 0.3), 0px 1px 3px 1px rgba(60, 64, 67, 0.15);\n",
              "      fill: #174EA6;\n",
              "    }\n",
              "\n",
              "    [theme=dark] .colab-df-convert {\n",
              "      background-color: #3B4455;\n",
              "      fill: #D2E3FC;\n",
              "    }\n",
              "\n",
              "    [theme=dark] .colab-df-convert:hover {\n",
              "      background-color: #434B5C;\n",
              "      box-shadow: 0px 1px 3px 1px rgba(0, 0, 0, 0.15);\n",
              "      filter: drop-shadow(0px 1px 2px rgba(0, 0, 0, 0.3));\n",
              "      fill: #FFFFFF;\n",
              "    }\n",
              "  </style>\n",
              "\n",
              "      <script>\n",
              "        const buttonEl =\n",
              "          document.querySelector('#df-916f1d9e-b2fb-4b1c-b204-b4232e336e9d button.colab-df-convert');\n",
              "        buttonEl.style.display =\n",
              "          google.colab.kernel.accessAllowed ? 'block' : 'none';\n",
              "\n",
              "        async function convertToInteractive(key) {\n",
              "          const element = document.querySelector('#df-916f1d9e-b2fb-4b1c-b204-b4232e336e9d');\n",
              "          const dataTable =\n",
              "            await google.colab.kernel.invokeFunction('convertToInteractive',\n",
              "                                                     [key], {});\n",
              "          if (!dataTable) return;\n",
              "\n",
              "          const docLinkHtml = 'Like what you see? Visit the ' +\n",
              "            '<a target=\"_blank\" href=https://colab.research.google.com/notebooks/data_table.ipynb>data table notebook</a>'\n",
              "            + ' to learn more about interactive tables.';\n",
              "          element.innerHTML = '';\n",
              "          dataTable['output_type'] = 'display_data';\n",
              "          await google.colab.output.renderOutput(dataTable, element);\n",
              "          const docLink = document.createElement('div');\n",
              "          docLink.innerHTML = docLinkHtml;\n",
              "          element.appendChild(docLink);\n",
              "        }\n",
              "      </script>\n",
              "    </div>\n",
              "  </div>\n",
              "  "
            ]
          },
          "metadata": {},
          "execution_count": 246
        }
      ]
    },
    {
      "cell_type": "code",
      "metadata": {
        "id": "9O0dhVTfcajz",
        "colab": {
          "base_uri": "https://localhost:8080/"
        },
        "outputId": "aca0e6de-f8cc-4365-c3f5-c4523c5c4e06"
      },
      "source": [
        "# Estimando o modelo\n",
        "\n",
        "resultadoRegressao = sm.OLS(y, x).fit()\n",
        "print(resultadoRegressao.summary())"
      ],
      "execution_count": 247,
      "outputs": [
        {
          "output_type": "stream",
          "name": "stdout",
          "text": [
            "                             OLS Regression Results                             \n",
            "================================================================================\n",
            "Dep. Variable:     Y_Qualidade_do_Vinho   R-squared:                       0.214\n",
            "Model:                              OLS   Adj. R-squared:                  0.214\n",
            "Method:                   Least Squares   F-statistic:                     1079.\n",
            "Date:                  Fri, 10 Jun 2022   Prob (F-statistic):          1.43e-209\n",
            "Time:                          03:09:22   Log-Likelihood:                -4683.8\n",
            "No. Observations:                  3961   AIC:                             9372.\n",
            "Df Residuals:                      3959   BIC:                             9384.\n",
            "Df Model:                             1                                         \n",
            "Covariance Type:              nonrobust                                         \n",
            "==============================================================================\n",
            "                 coef    std err          t      P>|t|      [0.025      0.975]\n",
            "------------------------------------------------------------------------------\n",
            "const          2.2678      0.110     20.636      0.000       2.052       2.483\n",
            "X_Alcool       0.3387      0.010     32.856      0.000       0.319       0.359\n",
            "==============================================================================\n",
            "Omnibus:                       89.078   Durbin-Watson:                   1.800\n",
            "Prob(Omnibus):                  0.000   Jarque-Bera (JB):              177.154\n",
            "Skew:                          -0.125   Prob(JB):                     3.40e-39\n",
            "Kurtosis:                       4.005   Cond. No.                         94.2\n",
            "==============================================================================\n",
            "\n",
            "Warnings:\n",
            "[1] Standard Errors assume that the covariance matrix of the errors is correctly specified.\n"
          ]
        }
      ]
    },
    {
      "cell_type": "markdown",
      "metadata": {
        "id": "eP2wm9fBcaj2"
      },
      "source": [
        "### Obtendo as previsões dentro da amostra"
      ]
    },
    {
      "cell_type": "code",
      "metadata": {
        "id": "cbuzGLB-caj2",
        "scrolled": true,
        "colab": {
          "base_uri": "https://localhost:8080/",
          "height": 424
        },
        "outputId": "dab68ab3-7103-49af-97dd-d1b4decc25e8"
      },
      "source": [
        "dataset['Y Previsto'] = resultadoRegressao.predict().round(2)\n",
        "dataset"
      ],
      "execution_count": 248,
      "outputs": [
        {
          "output_type": "execute_result",
          "data": {
            "text/plain": [
              "      Y_Qualidade_do_Vinho  X_Alcool  Y Previsto\n",
              "0                        6       8.8        5.25\n",
              "1                        6       9.5        5.49\n",
              "2                        6      10.1        5.69\n",
              "3                        6       9.9        5.62\n",
              "6                        6       9.6        5.52\n",
              "...                    ...       ...         ...\n",
              "4893                     6      11.2        6.06\n",
              "4894                     5       9.6        5.52\n",
              "4895                     6       9.4        5.45\n",
              "4896                     7      12.8        6.60\n",
              "4897                     6      11.8        6.26\n",
              "\n",
              "[3961 rows x 3 columns]"
            ],
            "text/html": [
              "\n",
              "  <div id=\"df-7e5df299-4c51-4695-8ffc-cbec13c2f284\">\n",
              "    <div class=\"colab-df-container\">\n",
              "      <div>\n",
              "<style scoped>\n",
              "    .dataframe tbody tr th:only-of-type {\n",
              "        vertical-align: middle;\n",
              "    }\n",
              "\n",
              "    .dataframe tbody tr th {\n",
              "        vertical-align: top;\n",
              "    }\n",
              "\n",
              "    .dataframe thead th {\n",
              "        text-align: right;\n",
              "    }\n",
              "</style>\n",
              "<table border=\"1\" class=\"dataframe\">\n",
              "  <thead>\n",
              "    <tr style=\"text-align: right;\">\n",
              "      <th></th>\n",
              "      <th>Y_Qualidade_do_Vinho</th>\n",
              "      <th>X_Alcool</th>\n",
              "      <th>Y Previsto</th>\n",
              "    </tr>\n",
              "  </thead>\n",
              "  <tbody>\n",
              "    <tr>\n",
              "      <th>0</th>\n",
              "      <td>6</td>\n",
              "      <td>8.8</td>\n",
              "      <td>5.25</td>\n",
              "    </tr>\n",
              "    <tr>\n",
              "      <th>1</th>\n",
              "      <td>6</td>\n",
              "      <td>9.5</td>\n",
              "      <td>5.49</td>\n",
              "    </tr>\n",
              "    <tr>\n",
              "      <th>2</th>\n",
              "      <td>6</td>\n",
              "      <td>10.1</td>\n",
              "      <td>5.69</td>\n",
              "    </tr>\n",
              "    <tr>\n",
              "      <th>3</th>\n",
              "      <td>6</td>\n",
              "      <td>9.9</td>\n",
              "      <td>5.62</td>\n",
              "    </tr>\n",
              "    <tr>\n",
              "      <th>6</th>\n",
              "      <td>6</td>\n",
              "      <td>9.6</td>\n",
              "      <td>5.52</td>\n",
              "    </tr>\n",
              "    <tr>\n",
              "      <th>...</th>\n",
              "      <td>...</td>\n",
              "      <td>...</td>\n",
              "      <td>...</td>\n",
              "    </tr>\n",
              "    <tr>\n",
              "      <th>4893</th>\n",
              "      <td>6</td>\n",
              "      <td>11.2</td>\n",
              "      <td>6.06</td>\n",
              "    </tr>\n",
              "    <tr>\n",
              "      <th>4894</th>\n",
              "      <td>5</td>\n",
              "      <td>9.6</td>\n",
              "      <td>5.52</td>\n",
              "    </tr>\n",
              "    <tr>\n",
              "      <th>4895</th>\n",
              "      <td>6</td>\n",
              "      <td>9.4</td>\n",
              "      <td>5.45</td>\n",
              "    </tr>\n",
              "    <tr>\n",
              "      <th>4896</th>\n",
              "      <td>7</td>\n",
              "      <td>12.8</td>\n",
              "      <td>6.60</td>\n",
              "    </tr>\n",
              "    <tr>\n",
              "      <th>4897</th>\n",
              "      <td>6</td>\n",
              "      <td>11.8</td>\n",
              "      <td>6.26</td>\n",
              "    </tr>\n",
              "  </tbody>\n",
              "</table>\n",
              "<p>3961 rows × 3 columns</p>\n",
              "</div>\n",
              "      <button class=\"colab-df-convert\" onclick=\"convertToInteractive('df-7e5df299-4c51-4695-8ffc-cbec13c2f284')\"\n",
              "              title=\"Convert this dataframe to an interactive table.\"\n",
              "              style=\"display:none;\">\n",
              "        \n",
              "  <svg xmlns=\"http://www.w3.org/2000/svg\" height=\"24px\"viewBox=\"0 0 24 24\"\n",
              "       width=\"24px\">\n",
              "    <path d=\"M0 0h24v24H0V0z\" fill=\"none\"/>\n",
              "    <path d=\"M18.56 5.44l.94 2.06.94-2.06 2.06-.94-2.06-.94-.94-2.06-.94 2.06-2.06.94zm-11 1L8.5 8.5l.94-2.06 2.06-.94-2.06-.94L8.5 2.5l-.94 2.06-2.06.94zm10 10l.94 2.06.94-2.06 2.06-.94-2.06-.94-.94-2.06-.94 2.06-2.06.94z\"/><path d=\"M17.41 7.96l-1.37-1.37c-.4-.4-.92-.59-1.43-.59-.52 0-1.04.2-1.43.59L10.3 9.45l-7.72 7.72c-.78.78-.78 2.05 0 2.83L4 21.41c.39.39.9.59 1.41.59.51 0 1.02-.2 1.41-.59l7.78-7.78 2.81-2.81c.8-.78.8-2.07 0-2.86zM5.41 20L4 18.59l7.72-7.72 1.47 1.35L5.41 20z\"/>\n",
              "  </svg>\n",
              "      </button>\n",
              "      \n",
              "  <style>\n",
              "    .colab-df-container {\n",
              "      display:flex;\n",
              "      flex-wrap:wrap;\n",
              "      gap: 12px;\n",
              "    }\n",
              "\n",
              "    .colab-df-convert {\n",
              "      background-color: #E8F0FE;\n",
              "      border: none;\n",
              "      border-radius: 50%;\n",
              "      cursor: pointer;\n",
              "      display: none;\n",
              "      fill: #1967D2;\n",
              "      height: 32px;\n",
              "      padding: 0 0 0 0;\n",
              "      width: 32px;\n",
              "    }\n",
              "\n",
              "    .colab-df-convert:hover {\n",
              "      background-color: #E2EBFA;\n",
              "      box-shadow: 0px 1px 2px rgba(60, 64, 67, 0.3), 0px 1px 3px 1px rgba(60, 64, 67, 0.15);\n",
              "      fill: #174EA6;\n",
              "    }\n",
              "\n",
              "    [theme=dark] .colab-df-convert {\n",
              "      background-color: #3B4455;\n",
              "      fill: #D2E3FC;\n",
              "    }\n",
              "\n",
              "    [theme=dark] .colab-df-convert:hover {\n",
              "      background-color: #434B5C;\n",
              "      box-shadow: 0px 1px 3px 1px rgba(0, 0, 0, 0.15);\n",
              "      filter: drop-shadow(0px 1px 2px rgba(0, 0, 0, 0.3));\n",
              "      fill: #FFFFFF;\n",
              "    }\n",
              "  </style>\n",
              "\n",
              "      <script>\n",
              "        const buttonEl =\n",
              "          document.querySelector('#df-7e5df299-4c51-4695-8ffc-cbec13c2f284 button.colab-df-convert');\n",
              "        buttonEl.style.display =\n",
              "          google.colab.kernel.accessAllowed ? 'block' : 'none';\n",
              "\n",
              "        async function convertToInteractive(key) {\n",
              "          const element = document.querySelector('#df-7e5df299-4c51-4695-8ffc-cbec13c2f284');\n",
              "          const dataTable =\n",
              "            await google.colab.kernel.invokeFunction('convertToInteractive',\n",
              "                                                     [key], {});\n",
              "          if (!dataTable) return;\n",
              "\n",
              "          const docLinkHtml = 'Like what you see? Visit the ' +\n",
              "            '<a target=\"_blank\" href=https://colab.research.google.com/notebooks/data_table.ipynb>data table notebook</a>'\n",
              "            + ' to learn more about interactive tables.';\n",
              "          element.innerHTML = '';\n",
              "          dataTable['output_type'] = 'display_data';\n",
              "          await google.colab.output.renderOutput(dataTable, element);\n",
              "          const docLink = document.createElement('div');\n",
              "          docLink.innerHTML = docLinkHtml;\n",
              "          element.appendChild(docLink);\n",
              "        }\n",
              "      </script>\n",
              "    </div>\n",
              "  </div>\n",
              "  "
            ]
          },
          "metadata": {},
          "execution_count": 248
        }
      ]
    },
    {
      "cell_type": "markdown",
      "source": [
        "# Função para estimar o valor de Y"
      ],
      "metadata": {
        "id": "XH7mlisWySap"
      }
    },
    {
      "cell_type": "code",
      "source": [
        "resultadoRegressao.params"
      ],
      "metadata": {
        "colab": {
          "base_uri": "https://localhost:8080/"
        },
        "id": "x0njbwANqv3m",
        "outputId": "512428bd-1a4c-4a6a-dbb0-a77c6b9293cb"
      },
      "execution_count": 249,
      "outputs": [
        {
          "output_type": "execute_result",
          "data": {
            "text/plain": [
              "const       2.267819\n",
              "X_Alcool    0.338738\n",
              "dtype: float64"
            ]
          },
          "metadata": {},
          "execution_count": 249
        }
      ]
    },
    {
      "cell_type": "code",
      "source": [
        "beta1 = resultadoRegressao.params[0]\n",
        "beta2 = resultadoRegressao.params[1]"
      ],
      "metadata": {
        "id": "w9BHOl4Tqih1"
      },
      "execution_count": 250,
      "outputs": []
    },
    {
      "cell_type": "code",
      "source": [
        "def prever(x):\n",
        "  return beta1 + beta2 * x"
      ],
      "metadata": {
        "id": "UsL0Vu0vq9CO"
      },
      "execution_count": 251,
      "outputs": []
    },
    {
      "cell_type": "code",
      "source": [
        "print(f'Prevendo a qualidade do vinho com um nivel de acohol como 7 - {prever(7).round(2)}')\n",
        "print(f'Prevendo a qualidade do vinho com um nivel de acohol como 5 - {prever(5).round(2)}')\n",
        "print(f'Prevendo a qualidade do vinho com um nivel de acohol como 3 - {prever(3).round(2)}')"
      ],
      "metadata": {
        "colab": {
          "base_uri": "https://localhost:8080/"
        },
        "id": "6yo64LqorZYO",
        "outputId": "ac438134-84d1-43fd-da8f-e49b0af8fbff"
      },
      "execution_count": 252,
      "outputs": [
        {
          "output_type": "stream",
          "name": "stdout",
          "text": [
            "Prevendo a qualidade do vinho com um nivel de acohol como 7 - 4.64\n",
            "Prevendo a qualidade do vinho com um nivel de acohol como 5 - 3.96\n",
            "Prevendo a qualidade do vinho com um nivel de acohol como 3 - 3.28\n"
          ]
        }
      ]
    },
    {
      "cell_type": "code",
      "source": [
        "qa = dados[['alcohol','quality']]\n",
        "\n",
        "print('Comparando resultados da função com resultados do Dataset\\n')\n",
        "print(f'Prevendo a qualidade do vinho com um nivel de acohol como 8.8 - {prever(8.8).round(2)}')\n",
        "print(f'Prevendo a qualidade do vinho com um nivel de acohol como 9.5 - {prever(9.5).round(2)}')\n",
        "print(f'Prevendo a qualidade do vinho com um nivel de acohol como 10.1 - {prever(10.1).round(2)}\\n')\n",
        "print(qa.head(3))\n",
        "print('')\n",
        "\n",
        "print('Todos os valores se aproximaram do valor real.')"
      ],
      "metadata": {
        "colab": {
          "base_uri": "https://localhost:8080/"
        },
        "id": "XaKe7xflPuhF",
        "outputId": "97aae4ab-551f-4723-896b-2f3a30b55f00"
      },
      "execution_count": 253,
      "outputs": [
        {
          "output_type": "stream",
          "name": "stdout",
          "text": [
            "Comparando resultados da função com resultados do Dataset\n",
            "\n",
            "Prevendo a qualidade do vinho com um nivel de acohol como 8.8 - 5.25\n",
            "Prevendo a qualidade do vinho com um nivel de acohol como 9.5 - 5.49\n",
            "Prevendo a qualidade do vinho com um nivel de acohol como 10.1 - 5.69\n",
            "\n",
            "   alcohol  quality\n",
            "0      8.8        6\n",
            "1      9.5        6\n",
            "2     10.1        6\n",
            "\n",
            "Todos os valores se aproximaram do valor real.\n"
          ]
        }
      ]
    },
    {
      "cell_type": "markdown",
      "source": [
        "#  Rquadrado"
      ],
      "metadata": {
        "id": "CuuQWQOj2BZr"
      }
    },
    {
      "cell_type": "code",
      "source": [
        "rquadrado = resultadoRegressao.rsquared\n",
        "rquadrado"
      ],
      "metadata": {
        "colab": {
          "base_uri": "https://localhost:8080/"
        },
        "id": "aaqO8xueri9W",
        "outputId": "9f9cb9af-6f45-4d64-db00-c7ce1ac709a6"
      },
      "execution_count": 254,
      "outputs": [
        {
          "output_type": "execute_result",
          "data": {
            "text/plain": [
              "0.21424800749926132"
            ]
          },
          "metadata": {},
          "execution_count": 254
        }
      ]
    },
    {
      "cell_type": "code",
      "source": [
        "print(f'Isso significa que 21,42% da variação na qualidade do vinho pode ser explicada pelo nivel de Alcool.')"
      ],
      "metadata": {
        "colab": {
          "base_uri": "https://localhost:8080/"
        },
        "id": "K3nxYwT8UpUC",
        "outputId": "5bbcab45-6a8b-45e7-960b-41499b0b57f4"
      },
      "execution_count": 255,
      "outputs": [
        {
          "output_type": "stream",
          "name": "stdout",
          "text": [
            "Isso significa que 21,42% da variação na qualidade do vinho pode ser explicada pelo nivel de Alcool.\n"
          ]
        }
      ]
    },
    {
      "cell_type": "markdown",
      "source": [
        "# EXTRA"
      ],
      "metadata": {
        "id": "g0iR3Hd02s4A"
      }
    },
    {
      "cell_type": "markdown",
      "source": [
        "Devido ao tempo extra atribuido para a realização do trabalho decidimos fazer um estudo de regressão linear com um pequeno dataset encontrado. "
      ],
      "metadata": {
        "id": "DEMiI0IMWnuk"
      }
    },
    {
      "cell_type": "markdown",
      "source": [
        "## Dataset"
      ],
      "metadata": {
        "id": "3BXpr_mJY2qV"
      }
    },
    {
      "cell_type": "markdown",
      "source": [
        "Fonte dos Dados \n",
        "https://www.kaggle.com/datasets/pkmisra/students-marks-dataset"
      ],
      "metadata": {
        "id": "PcIHNQ6tkmag"
      }
    },
    {
      "cell_type": "code",
      "source": [
        "dt = pd.read_csv('/content/drive/MyDrive/UVV/Trabalhos/Estatistica/trab_2/student_info.csv', sep=\",\")\n",
        "dt.head()"
      ],
      "metadata": {
        "id": "LidVRgqC2v3L",
        "colab": {
          "base_uri": "https://localhost:8080/",
          "height": 206
        },
        "outputId": "dd80f39b-1fdc-4072-bdf5-9e95469f673b"
      },
      "execution_count": 256,
      "outputs": [
        {
          "output_type": "execute_result",
          "data": {
            "text/plain": [
              "   study_hours  student_marks\n",
              "0         6.83          78.50\n",
              "1         6.56          76.74\n",
              "2          NaN          78.68\n",
              "3         5.67          71.82\n",
              "4         8.67          84.19"
            ],
            "text/html": [
              "\n",
              "  <div id=\"df-fd84ca09-6905-46e0-a102-28984cf075cf\">\n",
              "    <div class=\"colab-df-container\">\n",
              "      <div>\n",
              "<style scoped>\n",
              "    .dataframe tbody tr th:only-of-type {\n",
              "        vertical-align: middle;\n",
              "    }\n",
              "\n",
              "    .dataframe tbody tr th {\n",
              "        vertical-align: top;\n",
              "    }\n",
              "\n",
              "    .dataframe thead th {\n",
              "        text-align: right;\n",
              "    }\n",
              "</style>\n",
              "<table border=\"1\" class=\"dataframe\">\n",
              "  <thead>\n",
              "    <tr style=\"text-align: right;\">\n",
              "      <th></th>\n",
              "      <th>study_hours</th>\n",
              "      <th>student_marks</th>\n",
              "    </tr>\n",
              "  </thead>\n",
              "  <tbody>\n",
              "    <tr>\n",
              "      <th>0</th>\n",
              "      <td>6.83</td>\n",
              "      <td>78.50</td>\n",
              "    </tr>\n",
              "    <tr>\n",
              "      <th>1</th>\n",
              "      <td>6.56</td>\n",
              "      <td>76.74</td>\n",
              "    </tr>\n",
              "    <tr>\n",
              "      <th>2</th>\n",
              "      <td>NaN</td>\n",
              "      <td>78.68</td>\n",
              "    </tr>\n",
              "    <tr>\n",
              "      <th>3</th>\n",
              "      <td>5.67</td>\n",
              "      <td>71.82</td>\n",
              "    </tr>\n",
              "    <tr>\n",
              "      <th>4</th>\n",
              "      <td>8.67</td>\n",
              "      <td>84.19</td>\n",
              "    </tr>\n",
              "  </tbody>\n",
              "</table>\n",
              "</div>\n",
              "      <button class=\"colab-df-convert\" onclick=\"convertToInteractive('df-fd84ca09-6905-46e0-a102-28984cf075cf')\"\n",
              "              title=\"Convert this dataframe to an interactive table.\"\n",
              "              style=\"display:none;\">\n",
              "        \n",
              "  <svg xmlns=\"http://www.w3.org/2000/svg\" height=\"24px\"viewBox=\"0 0 24 24\"\n",
              "       width=\"24px\">\n",
              "    <path d=\"M0 0h24v24H0V0z\" fill=\"none\"/>\n",
              "    <path d=\"M18.56 5.44l.94 2.06.94-2.06 2.06-.94-2.06-.94-.94-2.06-.94 2.06-2.06.94zm-11 1L8.5 8.5l.94-2.06 2.06-.94-2.06-.94L8.5 2.5l-.94 2.06-2.06.94zm10 10l.94 2.06.94-2.06 2.06-.94-2.06-.94-.94-2.06-.94 2.06-2.06.94z\"/><path d=\"M17.41 7.96l-1.37-1.37c-.4-.4-.92-.59-1.43-.59-.52 0-1.04.2-1.43.59L10.3 9.45l-7.72 7.72c-.78.78-.78 2.05 0 2.83L4 21.41c.39.39.9.59 1.41.59.51 0 1.02-.2 1.41-.59l7.78-7.78 2.81-2.81c.8-.78.8-2.07 0-2.86zM5.41 20L4 18.59l7.72-7.72 1.47 1.35L5.41 20z\"/>\n",
              "  </svg>\n",
              "      </button>\n",
              "      \n",
              "  <style>\n",
              "    .colab-df-container {\n",
              "      display:flex;\n",
              "      flex-wrap:wrap;\n",
              "      gap: 12px;\n",
              "    }\n",
              "\n",
              "    .colab-df-convert {\n",
              "      background-color: #E8F0FE;\n",
              "      border: none;\n",
              "      border-radius: 50%;\n",
              "      cursor: pointer;\n",
              "      display: none;\n",
              "      fill: #1967D2;\n",
              "      height: 32px;\n",
              "      padding: 0 0 0 0;\n",
              "      width: 32px;\n",
              "    }\n",
              "\n",
              "    .colab-df-convert:hover {\n",
              "      background-color: #E2EBFA;\n",
              "      box-shadow: 0px 1px 2px rgba(60, 64, 67, 0.3), 0px 1px 3px 1px rgba(60, 64, 67, 0.15);\n",
              "      fill: #174EA6;\n",
              "    }\n",
              "\n",
              "    [theme=dark] .colab-df-convert {\n",
              "      background-color: #3B4455;\n",
              "      fill: #D2E3FC;\n",
              "    }\n",
              "\n",
              "    [theme=dark] .colab-df-convert:hover {\n",
              "      background-color: #434B5C;\n",
              "      box-shadow: 0px 1px 3px 1px rgba(0, 0, 0, 0.15);\n",
              "      filter: drop-shadow(0px 1px 2px rgba(0, 0, 0, 0.3));\n",
              "      fill: #FFFFFF;\n",
              "    }\n",
              "  </style>\n",
              "\n",
              "      <script>\n",
              "        const buttonEl =\n",
              "          document.querySelector('#df-fd84ca09-6905-46e0-a102-28984cf075cf button.colab-df-convert');\n",
              "        buttonEl.style.display =\n",
              "          google.colab.kernel.accessAllowed ? 'block' : 'none';\n",
              "\n",
              "        async function convertToInteractive(key) {\n",
              "          const element = document.querySelector('#df-fd84ca09-6905-46e0-a102-28984cf075cf');\n",
              "          const dataTable =\n",
              "            await google.colab.kernel.invokeFunction('convertToInteractive',\n",
              "                                                     [key], {});\n",
              "          if (!dataTable) return;\n",
              "\n",
              "          const docLinkHtml = 'Like what you see? Visit the ' +\n",
              "            '<a target=\"_blank\" href=https://colab.research.google.com/notebooks/data_table.ipynb>data table notebook</a>'\n",
              "            + ' to learn more about interactive tables.';\n",
              "          element.innerHTML = '';\n",
              "          dataTable['output_type'] = 'display_data';\n",
              "          await google.colab.output.renderOutput(dataTable, element);\n",
              "          const docLink = document.createElement('div');\n",
              "          docLink.innerHTML = docLinkHtml;\n",
              "          element.appendChild(docLink);\n",
              "        }\n",
              "      </script>\n",
              "    </div>\n",
              "  </div>\n",
              "  "
            ]
          },
          "metadata": {},
          "execution_count": 256
        }
      ]
    },
    {
      "cell_type": "code",
      "source": [
        "dt.info()"
      ],
      "metadata": {
        "colab": {
          "base_uri": "https://localhost:8080/"
        },
        "id": "hxXR1h6UXbn8",
        "outputId": "d87ac635-273c-4799-d2a1-80c23d42f00a"
      },
      "execution_count": 257,
      "outputs": [
        {
          "output_type": "stream",
          "name": "stdout",
          "text": [
            "<class 'pandas.core.frame.DataFrame'>\n",
            "RangeIndex: 200 entries, 0 to 199\n",
            "Data columns (total 2 columns):\n",
            " #   Column         Non-Null Count  Dtype  \n",
            "---  ------         --------------  -----  \n",
            " 0   study_hours    195 non-null    float64\n",
            " 1   student_marks  200 non-null    float64\n",
            "dtypes: float64(2)\n",
            "memory usage: 3.2 KB\n"
          ]
        }
      ]
    },
    {
      "cell_type": "code",
      "source": [
        "dt.shape"
      ],
      "metadata": {
        "colab": {
          "base_uri": "https://localhost:8080/"
        },
        "id": "Lw8wrAV-Xb6e",
        "outputId": "04b4d4c7-fae5-480b-9670-a3378f57cb3d"
      },
      "execution_count": 258,
      "outputs": [
        {
          "output_type": "execute_result",
          "data": {
            "text/plain": [
              "(200, 2)"
            ]
          },
          "metadata": {},
          "execution_count": 258
        }
      ]
    },
    {
      "cell_type": "code",
      "source": [
        "dt.isnull().sum()"
      ],
      "metadata": {
        "colab": {
          "base_uri": "https://localhost:8080/"
        },
        "id": "pr4nA7diX9AT",
        "outputId": "0d3c3c0c-15d9-4649-e0cd-ebe4bb9b7377"
      },
      "execution_count": 259,
      "outputs": [
        {
          "output_type": "execute_result",
          "data": {
            "text/plain": [
              "study_hours      5\n",
              "student_marks    0\n",
              "dtype: int64"
            ]
          },
          "metadata": {},
          "execution_count": 259
        }
      ]
    },
    {
      "cell_type": "markdown",
      "source": [
        "### Tratando os dados"
      ],
      "metadata": {
        "id": "qg2HMAhKZAqU"
      }
    },
    {
      "cell_type": "code",
      "source": [
        "# retirar duplicados/linhas vazias\n",
        "\n",
        "dt = dt.drop_duplicates()\n",
        "dt.dropna(how='any', inplace=True) # removendo linhas onde qualquer coluna seja NaN"
      ],
      "metadata": {
        "id": "bQ07Sz4XX_4E"
      },
      "execution_count": 260,
      "outputs": []
    },
    {
      "cell_type": "code",
      "source": [
        "dt.isnull().sum()"
      ],
      "metadata": {
        "colab": {
          "base_uri": "https://localhost:8080/"
        },
        "id": "H4SJsb53YIhT",
        "outputId": "7d002ad2-5631-440e-e49a-fa5520748c2a"
      },
      "execution_count": 261,
      "outputs": [
        {
          "output_type": "execute_result",
          "data": {
            "text/plain": [
              "study_hours      0\n",
              "student_marks    0\n",
              "dtype: int64"
            ]
          },
          "metadata": {},
          "execution_count": 261
        }
      ]
    },
    {
      "cell_type": "markdown",
      "source": [
        "### Estatísticas descritivas"
      ],
      "metadata": {
        "id": "9Q7W5kq5ZnMZ"
      }
    },
    {
      "cell_type": "code",
      "source": [
        "dt.describe().round(2)"
      ],
      "metadata": {
        "colab": {
          "base_uri": "https://localhost:8080/",
          "height": 300
        },
        "id": "AhQ9RPZBZkAh",
        "outputId": "c4e0838f-0fa3-470d-8a35-3c5e071b6a05"
      },
      "execution_count": 262,
      "outputs": [
        {
          "output_type": "execute_result",
          "data": {
            "text/plain": [
              "       study_hours  student_marks\n",
              "count       195.00         195.00\n",
              "mean          7.00          77.96\n",
              "std           1.25           4.98\n",
              "min           5.01          68.57\n",
              "25%           5.78          73.30\n",
              "50%           7.12          77.78\n",
              "75%           8.09          82.44\n",
              "max           8.99          86.99"
            ],
            "text/html": [
              "\n",
              "  <div id=\"df-bc339311-fb72-4f99-bb1a-03b41b272f8a\">\n",
              "    <div class=\"colab-df-container\">\n",
              "      <div>\n",
              "<style scoped>\n",
              "    .dataframe tbody tr th:only-of-type {\n",
              "        vertical-align: middle;\n",
              "    }\n",
              "\n",
              "    .dataframe tbody tr th {\n",
              "        vertical-align: top;\n",
              "    }\n",
              "\n",
              "    .dataframe thead th {\n",
              "        text-align: right;\n",
              "    }\n",
              "</style>\n",
              "<table border=\"1\" class=\"dataframe\">\n",
              "  <thead>\n",
              "    <tr style=\"text-align: right;\">\n",
              "      <th></th>\n",
              "      <th>study_hours</th>\n",
              "      <th>student_marks</th>\n",
              "    </tr>\n",
              "  </thead>\n",
              "  <tbody>\n",
              "    <tr>\n",
              "      <th>count</th>\n",
              "      <td>195.00</td>\n",
              "      <td>195.00</td>\n",
              "    </tr>\n",
              "    <tr>\n",
              "      <th>mean</th>\n",
              "      <td>7.00</td>\n",
              "      <td>77.96</td>\n",
              "    </tr>\n",
              "    <tr>\n",
              "      <th>std</th>\n",
              "      <td>1.25</td>\n",
              "      <td>4.98</td>\n",
              "    </tr>\n",
              "    <tr>\n",
              "      <th>min</th>\n",
              "      <td>5.01</td>\n",
              "      <td>68.57</td>\n",
              "    </tr>\n",
              "    <tr>\n",
              "      <th>25%</th>\n",
              "      <td>5.78</td>\n",
              "      <td>73.30</td>\n",
              "    </tr>\n",
              "    <tr>\n",
              "      <th>50%</th>\n",
              "      <td>7.12</td>\n",
              "      <td>77.78</td>\n",
              "    </tr>\n",
              "    <tr>\n",
              "      <th>75%</th>\n",
              "      <td>8.09</td>\n",
              "      <td>82.44</td>\n",
              "    </tr>\n",
              "    <tr>\n",
              "      <th>max</th>\n",
              "      <td>8.99</td>\n",
              "      <td>86.99</td>\n",
              "    </tr>\n",
              "  </tbody>\n",
              "</table>\n",
              "</div>\n",
              "      <button class=\"colab-df-convert\" onclick=\"convertToInteractive('df-bc339311-fb72-4f99-bb1a-03b41b272f8a')\"\n",
              "              title=\"Convert this dataframe to an interactive table.\"\n",
              "              style=\"display:none;\">\n",
              "        \n",
              "  <svg xmlns=\"http://www.w3.org/2000/svg\" height=\"24px\"viewBox=\"0 0 24 24\"\n",
              "       width=\"24px\">\n",
              "    <path d=\"M0 0h24v24H0V0z\" fill=\"none\"/>\n",
              "    <path d=\"M18.56 5.44l.94 2.06.94-2.06 2.06-.94-2.06-.94-.94-2.06-.94 2.06-2.06.94zm-11 1L8.5 8.5l.94-2.06 2.06-.94-2.06-.94L8.5 2.5l-.94 2.06-2.06.94zm10 10l.94 2.06.94-2.06 2.06-.94-2.06-.94-.94-2.06-.94 2.06-2.06.94z\"/><path d=\"M17.41 7.96l-1.37-1.37c-.4-.4-.92-.59-1.43-.59-.52 0-1.04.2-1.43.59L10.3 9.45l-7.72 7.72c-.78.78-.78 2.05 0 2.83L4 21.41c.39.39.9.59 1.41.59.51 0 1.02-.2 1.41-.59l7.78-7.78 2.81-2.81c.8-.78.8-2.07 0-2.86zM5.41 20L4 18.59l7.72-7.72 1.47 1.35L5.41 20z\"/>\n",
              "  </svg>\n",
              "      </button>\n",
              "      \n",
              "  <style>\n",
              "    .colab-df-container {\n",
              "      display:flex;\n",
              "      flex-wrap:wrap;\n",
              "      gap: 12px;\n",
              "    }\n",
              "\n",
              "    .colab-df-convert {\n",
              "      background-color: #E8F0FE;\n",
              "      border: none;\n",
              "      border-radius: 50%;\n",
              "      cursor: pointer;\n",
              "      display: none;\n",
              "      fill: #1967D2;\n",
              "      height: 32px;\n",
              "      padding: 0 0 0 0;\n",
              "      width: 32px;\n",
              "    }\n",
              "\n",
              "    .colab-df-convert:hover {\n",
              "      background-color: #E2EBFA;\n",
              "      box-shadow: 0px 1px 2px rgba(60, 64, 67, 0.3), 0px 1px 3px 1px rgba(60, 64, 67, 0.15);\n",
              "      fill: #174EA6;\n",
              "    }\n",
              "\n",
              "    [theme=dark] .colab-df-convert {\n",
              "      background-color: #3B4455;\n",
              "      fill: #D2E3FC;\n",
              "    }\n",
              "\n",
              "    [theme=dark] .colab-df-convert:hover {\n",
              "      background-color: #434B5C;\n",
              "      box-shadow: 0px 1px 3px 1px rgba(0, 0, 0, 0.15);\n",
              "      filter: drop-shadow(0px 1px 2px rgba(0, 0, 0, 0.3));\n",
              "      fill: #FFFFFF;\n",
              "    }\n",
              "  </style>\n",
              "\n",
              "      <script>\n",
              "        const buttonEl =\n",
              "          document.querySelector('#df-bc339311-fb72-4f99-bb1a-03b41b272f8a button.colab-df-convert');\n",
              "        buttonEl.style.display =\n",
              "          google.colab.kernel.accessAllowed ? 'block' : 'none';\n",
              "\n",
              "        async function convertToInteractive(key) {\n",
              "          const element = document.querySelector('#df-bc339311-fb72-4f99-bb1a-03b41b272f8a');\n",
              "          const dataTable =\n",
              "            await google.colab.kernel.invokeFunction('convertToInteractive',\n",
              "                                                     [key], {});\n",
              "          if (!dataTable) return;\n",
              "\n",
              "          const docLinkHtml = 'Like what you see? Visit the ' +\n",
              "            '<a target=\"_blank\" href=https://colab.research.google.com/notebooks/data_table.ipynb>data table notebook</a>'\n",
              "            + ' to learn more about interactive tables.';\n",
              "          element.innerHTML = '';\n",
              "          dataTable['output_type'] = 'display_data';\n",
              "          await google.colab.output.renderOutput(dataTable, element);\n",
              "          const docLink = document.createElement('div');\n",
              "          docLink.innerHTML = docLinkHtml;\n",
              "          element.appendChild(docLink);\n",
              "        }\n",
              "      </script>\n",
              "    </div>\n",
              "  </div>\n",
              "  "
            ]
          },
          "metadata": {},
          "execution_count": 262
        }
      ]
    },
    {
      "cell_type": "markdown",
      "source": [
        "## Visualização Gráfica"
      ],
      "metadata": {
        "id": "6JqDIRgsZHhD"
      }
    },
    {
      "cell_type": "code",
      "source": [
        "plt.figure(figsize=(10,5))\n",
        "plt.scatter(dt.study_hours , dt.student_marks)\n",
        "plt.title(' Horas estudadas X Pontuação do exame ')\n",
        "plt.xlabel(' Horas ')\n",
        "plt.ylabel(' Pontuação ')\n",
        "plt.show()"
      ],
      "metadata": {
        "colab": {
          "base_uri": "https://localhost:8080/",
          "height": 350
        },
        "id": "G_NiQL6Pa_2k",
        "outputId": "0b6479e7-0832-4ad9-f8a5-5fb22b068d37"
      },
      "execution_count": 263,
      "outputs": [
        {
          "output_type": "display_data",
          "data": {
            "text/plain": [
              "<Figure size 720x360 with 1 Axes>"
            ],
            "image/png": "[encoded data removed]"
          },
          "metadata": {
            "needs_background": "light"
          }
        }
      ]
    },
    {
      "cell_type": "code",
      "source": [
        "bp = sns.boxplot(data=dt, orient='h', width=0.5)\n",
        "bp.figure.set_size_inches(10, 5)\n",
        "bp"
      ],
      "metadata": {
        "id": "5zb5zCs-Z6Or",
        "colab": {
          "base_uri": "https://localhost:8080/",
          "height": 337
        },
        "outputId": "bca6e871-605b-4683-adbf-98873b760cc9"
      },
      "execution_count": 264,
      "outputs": [
        {
          "output_type": "execute_result",
          "data": {
            "text/plain": [
              "<matplotlib.axes._subplots.AxesSubplot at 0x7f57e939e290>"
            ]
          },
          "metadata": {},
          "execution_count": 264
        },
        {
          "output_type": "display_data",
          "data": {
            "text/plain": [
              "<Figure size 720x360 with 1 Axes>"
            ],
            "image/png": "[encoded data removed]"
          },
          "metadata": {
            "needs_background": "light"
          }
        }
      ]
    },
    {
      "cell_type": "code",
      "source": [
        "print('A partir do grafico de disperssao, podemos ver que a relação parece ser linear.')\n",
        "print('E no box plot conseguimos ver que não tem outliers nos dados.')"
      ],
      "metadata": {
        "colab": {
          "base_uri": "https://localhost:8080/"
        },
        "id": "1AQBuHHYirM9",
        "outputId": "b4144c85-b897-4fea-b5db-800006e39aec"
      },
      "execution_count": 265,
      "outputs": [
        {
          "output_type": "stream",
          "name": "stdout",
          "text": [
            "A partir do grafico de disperssao, podemos ver que a relação parece ser linear.\n",
            "E no box plot conseguimos ver que não tem outliers nos dados.\n"
          ]
        }
      ]
    },
    {
      "cell_type": "markdown",
      "source": [
        "## Análise de Correlação"
      ],
      "metadata": {
        "id": "0Kn8PYBmacqm"
      }
    },
    {
      "cell_type": "code",
      "source": [
        "correlacao = dt.corr()\n",
        "correlacao"
      ],
      "metadata": {
        "colab": {
          "base_uri": "https://localhost:8080/",
          "height": 112
        },
        "id": "YL0dTT2Sdh1e",
        "outputId": "d1357da9-20eb-4856-b941-0c6b0363c346"
      },
      "execution_count": 266,
      "outputs": [
        {
          "output_type": "execute_result",
          "data": {
            "text/plain": [
              "               study_hours  student_marks\n",
              "study_hours       1.000000       0.979919\n",
              "student_marks     0.979919       1.000000"
            ],
            "text/html": [
              "\n",
              "  <div id=\"df-e32b523c-dd92-4e24-8a43-25d8a68f3318\">\n",
              "    <div class=\"colab-df-container\">\n",
              "      <div>\n",
              "<style scoped>\n",
              "    .dataframe tbody tr th:only-of-type {\n",
              "        vertical-align: middle;\n",
              "    }\n",
              "\n",
              "    .dataframe tbody tr th {\n",
              "        vertical-align: top;\n",
              "    }\n",
              "\n",
              "    .dataframe thead th {\n",
              "        text-align: right;\n",
              "    }\n",
              "</style>\n",
              "<table border=\"1\" class=\"dataframe\">\n",
              "  <thead>\n",
              "    <tr style=\"text-align: right;\">\n",
              "      <th></th>\n",
              "      <th>study_hours</th>\n",
              "      <th>student_marks</th>\n",
              "    </tr>\n",
              "  </thead>\n",
              "  <tbody>\n",
              "    <tr>\n",
              "      <th>study_hours</th>\n",
              "      <td>1.000000</td>\n",
              "      <td>0.979919</td>\n",
              "    </tr>\n",
              "    <tr>\n",
              "      <th>student_marks</th>\n",
              "      <td>0.979919</td>\n",
              "      <td>1.000000</td>\n",
              "    </tr>\n",
              "  </tbody>\n",
              "</table>\n",
              "</div>\n",
              "      <button class=\"colab-df-convert\" onclick=\"convertToInteractive('df-e32b523c-dd92-4e24-8a43-25d8a68f3318')\"\n",
              "              title=\"Convert this dataframe to an interactive table.\"\n",
              "              style=\"display:none;\">\n",
              "        \n",
              "  <svg xmlns=\"http://www.w3.org/2000/svg\" height=\"24px\"viewBox=\"0 0 24 24\"\n",
              "       width=\"24px\">\n",
              "    <path d=\"M0 0h24v24H0V0z\" fill=\"none\"/>\n",
              "    <path d=\"M18.56 5.44l.94 2.06.94-2.06 2.06-.94-2.06-.94-.94-2.06-.94 2.06-2.06.94zm-11 1L8.5 8.5l.94-2.06 2.06-.94-2.06-.94L8.5 2.5l-.94 2.06-2.06.94zm10 10l.94 2.06.94-2.06 2.06-.94-2.06-.94-.94-2.06-.94 2.06-2.06.94z\"/><path d=\"M17.41 7.96l-1.37-1.37c-.4-.4-.92-.59-1.43-.59-.52 0-1.04.2-1.43.59L10.3 9.45l-7.72 7.72c-.78.78-.78 2.05 0 2.83L4 21.41c.39.39.9.59 1.41.59.51 0 1.02-.2 1.41-.59l7.78-7.78 2.81-2.81c.8-.78.8-2.07 0-2.86zM5.41 20L4 18.59l7.72-7.72 1.47 1.35L5.41 20z\"/>\n",
              "  </svg>\n",
              "      </button>\n",
              "      \n",
              "  <style>\n",
              "    .colab-df-container {\n",
              "      display:flex;\n",
              "      flex-wrap:wrap;\n",
              "      gap: 12px;\n",
              "    }\n",
              "\n",
              "    .colab-df-convert {\n",
              "      background-color: #E8F0FE;\n",
              "      border: none;\n",
              "      border-radius: 50%;\n",
              "      cursor: pointer;\n",
              "      display: none;\n",
              "      fill: #1967D2;\n",
              "      height: 32px;\n",
              "      padding: 0 0 0 0;\n",
              "      width: 32px;\n",
              "    }\n",
              "\n",
              "    .colab-df-convert:hover {\n",
              "      background-color: #E2EBFA;\n",
              "      box-shadow: 0px 1px 2px rgba(60, 64, 67, 0.3), 0px 1px 3px 1px rgba(60, 64, 67, 0.15);\n",
              "      fill: #174EA6;\n",
              "    }\n",
              "\n",
              "    [theme=dark] .colab-df-convert {\n",
              "      background-color: #3B4455;\n",
              "      fill: #D2E3FC;\n",
              "    }\n",
              "\n",
              "    [theme=dark] .colab-df-convert:hover {\n",
              "      background-color: #434B5C;\n",
              "      box-shadow: 0px 1px 3px 1px rgba(0, 0, 0, 0.15);\n",
              "      filter: drop-shadow(0px 1px 2px rgba(0, 0, 0, 0.3));\n",
              "      fill: #FFFFFF;\n",
              "    }\n",
              "  </style>\n",
              "\n",
              "      <script>\n",
              "        const buttonEl =\n",
              "          document.querySelector('#df-e32b523c-dd92-4e24-8a43-25d8a68f3318 button.colab-df-convert');\n",
              "        buttonEl.style.display =\n",
              "          google.colab.kernel.accessAllowed ? 'block' : 'none';\n",
              "\n",
              "        async function convertToInteractive(key) {\n",
              "          const element = document.querySelector('#df-e32b523c-dd92-4e24-8a43-25d8a68f3318');\n",
              "          const dataTable =\n",
              "            await google.colab.kernel.invokeFunction('convertToInteractive',\n",
              "                                                     [key], {});\n",
              "          if (!dataTable) return;\n",
              "\n",
              "          const docLinkHtml = 'Like what you see? Visit the ' +\n",
              "            '<a target=\"_blank\" href=https://colab.research.google.com/notebooks/data_table.ipynb>data table notebook</a>'\n",
              "            + ' to learn more about interactive tables.';\n",
              "          element.innerHTML = '';\n",
              "          dataTable['output_type'] = 'display_data';\n",
              "          await google.colab.output.renderOutput(dataTable, element);\n",
              "          const docLink = document.createElement('div');\n",
              "          docLink.innerHTML = docLinkHtml;\n",
              "          element.appendChild(docLink);\n",
              "        }\n",
              "      </script>\n",
              "    </div>\n",
              "  </div>\n",
              "  "
            ]
          },
          "metadata": {},
          "execution_count": 266
        }
      ]
    },
    {
      "cell_type": "code",
      "source": [
        "corr = correlacao.student_marks\n",
        "corr = corr.drop(['student_marks'], axis=0) \n",
        "corr.sort_values(ascending=False)"
      ],
      "metadata": {
        "colab": {
          "base_uri": "https://localhost:8080/"
        },
        "id": "0SdZ2HCndqv_",
        "outputId": "bfffa232-cf05-4f64-bc56-fbb90a07f0ee"
      },
      "execution_count": 267,
      "outputs": [
        {
          "output_type": "execute_result",
          "data": {
            "text/plain": [
              "study_hours    0.979919\n",
              "Name: student_marks, dtype: float64"
            ]
          },
          "metadata": {},
          "execution_count": 267
        }
      ]
    },
    {
      "cell_type": "markdown",
      "source": [
        "## Modelo de regressão linear simples"
      ],
      "metadata": {
        "id": "BpxoeRtadmNu"
      }
    },
    {
      "cell_type": "code",
      "source": [
        "y = dt['student_marks']\n",
        "x = sm.add_constant(dt.study_hours)\n",
        "\n",
        "regressao = sm.OLS(y, x).fit()\n",
        "\n",
        "print(regressao.summary())"
      ],
      "metadata": {
        "colab": {
          "base_uri": "https://localhost:8080/"
        },
        "id": "QWpbNo_labEn",
        "outputId": "83ca5965-2fe1-41f9-d915-ac1e8f24b7d1"
      },
      "execution_count": 268,
      "outputs": [
        {
          "output_type": "stream",
          "name": "stdout",
          "text": [
            "                            OLS Regression Results                            \n",
            "==============================================================================\n",
            "Dep. Variable:          student_marks   R-squared:                       0.960\n",
            "Model:                            OLS   Adj. R-squared:                  0.960\n",
            "Method:                 Least Squares   F-statistic:                     4661.\n",
            "Date:                Fri, 10 Jun 2022   Prob (F-statistic):          4.09e-137\n",
            "Time:                        03:10:18   Log-Likelihood:                -274.92\n",
            "No. Observations:                 195   AIC:                             553.8\n",
            "Df Residuals:                     193   BIC:                             560.4\n",
            "Df Model:                           1                                         \n",
            "Covariance Type:            nonrobust                                         \n",
            "===============================================================================\n",
            "                  coef    std err          t      P>|t|      [0.025      0.975]\n",
            "-------------------------------------------------------------------------------\n",
            "const          50.7018      0.406    125.009      0.000      49.902      51.502\n",
            "study_hours     3.8965      0.057     68.274      0.000       3.784       4.009\n",
            "==============================================================================\n",
            "Omnibus:                        0.035   Durbin-Watson:                   1.982\n",
            "Prob(Omnibus):                  0.983   Jarque-Bera (JB):                0.109\n",
            "Skew:                          -0.030   Prob(JB):                        0.947\n",
            "Kurtosis:                       2.900   Cond. No.                         41.2\n",
            "==============================================================================\n",
            "\n",
            "Warnings:\n",
            "[1] Standard Errors assume that the covariance matrix of the errors is correctly specified.\n"
          ]
        },
        {
          "output_type": "stream",
          "name": "stderr",
          "text": [
            "/usr/local/lib/python3.7/dist-packages/statsmodels/tsa/tsatools.py:117: FutureWarning: In a future version of pandas all arguments of concat except for the argument 'objs' will be keyword-only\n",
            "  x = pd.concat(x[::order], 1)\n"
          ]
        }
      ]
    },
    {
      "cell_type": "code",
      "source": [
        "res = regressao.resid\n",
        "fig = sm.qqplot(res, fit=True, line=\"45\")\n",
        "plt.show()"
      ],
      "metadata": {
        "colab": {
          "base_uri": "https://localhost:8080/",
          "height": 279
        },
        "id": "kXFzNDORctDX",
        "outputId": "7d848120-1246-4441-f7c5-17752f73ed9b"
      },
      "execution_count": 269,
      "outputs": [
        {
          "output_type": "display_data",
          "data": {
            "text/plain": [
              "<Figure size 432x288 with 1 Axes>"
            ],
            "image/png": "[encoded data removed]"
          },
          "metadata": {
            "needs_background": "light"
          }
        }
      ]
    },
    {
      "cell_type": "code",
      "source": [
        "print('Neste grafico QQ conseguimos ver que os dados seguem uma distribuição normal')"
      ],
      "metadata": {
        "colab": {
          "base_uri": "https://localhost:8080/"
        },
        "id": "dOSCNA07ji0b",
        "outputId": "e2fd7b24-7fb3-4a32-fbf3-518a919ec2eb"
      },
      "execution_count": 270,
      "outputs": [
        {
          "output_type": "stream",
          "name": "stdout",
          "text": [
            "Neste grafico QQ conseguimos ver que os dados seguem uma distribuição normal\n"
          ]
        }
      ]
    },
    {
      "cell_type": "markdown",
      "source": [
        "## Função para estimar o valor de Y"
      ],
      "metadata": {
        "id": "DXbJpHnifgQg"
      }
    },
    {
      "cell_type": "code",
      "source": [
        "regressao.params\n",
        "beta1 = regressao.params[0]\n",
        "beta2 = regressao.params[1]"
      ],
      "metadata": {
        "id": "5znlP3iac08I"
      },
      "execution_count": 271,
      "outputs": []
    },
    {
      "cell_type": "code",
      "source": [
        "def preverNota(x):\n",
        "  return beta1 + beta2 * x"
      ],
      "metadata": {
        "id": "7hv7nC4Sfms1"
      },
      "execution_count": 272,
      "outputs": []
    },
    {
      "cell_type": "code",
      "source": [
        "print(f'Prevendo a nota do aluno com 8 horas de estudo - {preverNota(8).round(2)}')\n",
        "print(f'Prevendo a nota do aluno com 1 horas de estudo - {preverNota(1).round(2)}')\n",
        "print(f'Prevendo a nota do aluno com 5 horas de estudo - {preverNota(5).round(2)}')"
      ],
      "metadata": {
        "colab": {
          "base_uri": "https://localhost:8080/"
        },
        "id": "gmcuO_akfruX",
        "outputId": "b670bd48-b346-4e8e-f7ad-4def7f843702"
      },
      "execution_count": 273,
      "outputs": [
        {
          "output_type": "stream",
          "name": "stdout",
          "text": [
            "Prevendo a nota do aluno com 8 horas de estudo - 81.87\n",
            "Prevendo a nota do aluno com 1 horas de estudo - 54.6\n",
            "Prevendo a nota do aluno com 5 horas de estudo - 70.18\n"
          ]
        }
      ]
    },
    {
      "cell_type": "markdown",
      "source": [
        "## R quadrado"
      ],
      "metadata": {
        "id": "g7DMSd6cgA9F"
      }
    },
    {
      "cell_type": "code",
      "source": [
        "regressao.rsquared"
      ],
      "metadata": {
        "colab": {
          "base_uri": "https://localhost:8080/"
        },
        "id": "AiXaoZzagDK5",
        "outputId": "ef6b0a00-b797-4b46-b4d2-8499712f9480"
      },
      "execution_count": 274,
      "outputs": [
        {
          "output_type": "execute_result",
          "data": {
            "text/plain": [
              "0.9602417969592089"
            ]
          },
          "metadata": {},
          "execution_count": 274
        }
      ]
    },
    {
      "cell_type": "code",
      "source": [
        "print('Isso significa que  96% da variação nas notas pode ser explicada pelo número de horas estudadas.')"
      ],
      "metadata": {
        "colab": {
          "base_uri": "https://localhost:8080/"
        },
        "id": "OvbXIuhCh2LL",
        "outputId": "33cddc5d-9d21-4f0f-c045-747dbae5fa07"
      },
      "execution_count": 275,
      "outputs": [
        {
          "output_type": "stream",
          "name": "stdout",
          "text": [
            "Isso significa que  96% da variação nas notas pode ser explicada pelo número de horas estudadas.\n"
          ]
        }
      ]
    }
  ]
}